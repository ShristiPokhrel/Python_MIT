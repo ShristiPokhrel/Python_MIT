{
 "cells": [
  {
   "cell_type": "code",
   "execution_count": 1,
   "id": "a28e400e-d2d1-4da0-bbb1-bb90a38ad00b",
   "metadata": {},
   "outputs": [
    {
     "ename": "SyntaxError",
     "evalue": "invalid decimal literal (747356839.py, line 2)",
     "output_type": "error",
     "traceback": [
      "\u001b[1;36m  Cell \u001b[1;32mIn[1], line 2\u001b[1;36m\u001b[0m\n\u001b[1;33m    1.Abstraction: hide unecessary details from the users\u001b[0m\n\u001b[1;37m     ^\u001b[0m\n\u001b[1;31mSyntaxError\u001b[0m\u001b[1;31m:\u001b[0m invalid decimal literal\n"
     ]
    }
   ],
   "source": [
    "# 4 Pillars of OOP\n",
    "1.Abstraction: hide unecessary details from the users\n",
    "2.Encaptulation:binding data\n",
    "3.Inheritance: can access the methods of another class\n",
    "4.Polymorphism: same function different work\n",
    "\n",
    "\n"
   ]
  },
  {
   "cell_type": "code",
   "execution_count": 2,
   "id": "70a1e170-01ad-42bd-9bdb-443051c199dd",
   "metadata": {},
   "outputs": [],
   "source": [
    "#Create a new object type called Sample"
   ]
  },
  {
   "cell_type": "code",
   "execution_count": 3,
   "id": "91fe0fa1-a910-48bb-9f78-52093152cf0a",
   "metadata": {},
   "outputs": [],
   "source": [
    "class Sample:\n",
    "    pass\n",
    "#insatnce of Sample\n",
    "x=Sample()"
   ]
  },
  {
   "cell_type": "code",
   "execution_count": 4,
   "id": "1618a3c6-4b47-480f-882b-c257047f8679",
   "metadata": {},
   "outputs": [
    {
     "name": "stdout",
     "output_type": "stream",
     "text": [
      "<class '__main__.Sample'>\n"
     ]
    }
   ],
   "source": [
    "print(type(x))"
   ]
  },
  {
   "cell_type": "code",
   "execution_count": null,
   "id": "bb151c6c-f4e8-4d76-9525-09ab73153f48",
   "metadata": {},
   "outputs": [],
   "source": [
    "#Class Constrructor\n",
    "__init__()"
   ]
  },
  {
   "cell_type": "code",
   "execution_count": 5,
   "id": "4feb463b-5cb9-4e93-ad1f-667873e13d62",
   "metadata": {},
   "outputs": [],
   "source": [
    "class Person:\n",
    "    def __init__(self,name):  #parameterized Constructor\n",
    "        self.name=name"
   ]
  },
  {
   "cell_type": "code",
   "execution_count": 6,
   "id": "2d7429ac-c5f1-4bcf-8610-50cb24cde882",
   "metadata": {},
   "outputs": [],
   "source": [
    "p=Person('Shristi')"
   ]
  },
  {
   "cell_type": "code",
   "execution_count": 7,
   "id": "349dd0e6-e469-4f61-9e64-abe7bfa09bd7",
   "metadata": {},
   "outputs": [
    {
     "name": "stdout",
     "output_type": "stream",
     "text": [
      "Shristi\n"
     ]
    }
   ],
   "source": [
    "print(p.name)"
   ]
  },
  {
   "cell_type": "code",
   "execution_count": 8,
   "id": "fbc7b59e-0eb2-4d17-ab62-1193f0df07da",
   "metadata": {},
   "outputs": [
    {
     "name": "stdout",
     "output_type": "stream",
     "text": [
      "<__main__.Person object at 0x0000023BFBA0C830>\n"
     ]
    }
   ],
   "source": [
    "print(p)"
   ]
  },
  {
   "cell_type": "code",
   "execution_count": null,
   "id": "91f1ef0a-04d9-48f7-9800-fabbd7966cba",
   "metadata": {},
   "outputs": [],
   "source": [
    "#two types of constructor\n",
    "Parameterized, Non-Parameterized"
   ]
  },
  {
   "cell_type": "code",
   "execution_count": 12,
   "id": "c896839f-ded4-4cd0-99a4-332a3b8dc189",
   "metadata": {},
   "outputs": [],
   "source": [
    "class Fruit:\n",
    "    #parameterized \n",
    "    def __intg__(self,name,color):\n",
    "        print(\"This is parameterized constructor\")\n",
    "        self.name=name\n",
    "        self.color=color\n",
    "    def show(self):\n",
    "        print(\"Fruit is\", self.name, \"and Color is\", self.color)\n",
    "obj=Fruit(\"Apple\",\"red\")\n"
   ]
  },
  {
   "cell_type": "code",
   "execution_count": 14,
   "id": "4da2075c-38b5-497b-bb68-8148552032ea",
   "metadata": {},
   "outputs": [],
   "source": [
    "#Attributes\n"
   ]
  },
  {
   "cell_type": "code",
   "execution_count": 20,
   "id": "9d2dcb8d-2ef5-4450-8148-6e24e1f75d1b",
   "metadata": {},
   "outputs": [],
   "source": [
    "class Dog:\n",
    "    def __init__(self,breed):\n",
    "        self.breed=breed"
   ]
  },
  {
   "cell_type": "code",
   "execution_count": 23,
   "id": "65ebc9d8-f3fc-4585-89df-d67740f43826",
   "metadata": {},
   "outputs": [],
   "source": [
    "sam=Dog(breed='Lab')"
   ]
  },
  {
   "cell_type": "code",
   "execution_count": 24,
   "id": "979e7838-0682-48c7-b12a-618ba61846d8",
   "metadata": {},
   "outputs": [],
   "source": [
    "frank=Dog(breed='Huskie')"
   ]
  },
  {
   "cell_type": "code",
   "execution_count": 25,
   "id": "2b0eb462-ea80-4256-bf81-91227ca9c400",
   "metadata": {},
   "outputs": [
    {
     "name": "stdout",
     "output_type": "stream",
     "text": [
      "Lab\n"
     ]
    }
   ],
   "source": [
    "print(sam.breed)"
   ]
  },
  {
   "cell_type": "code",
   "execution_count": 26,
   "id": "66fa12f6-39ac-460c-b4af-038a368842bf",
   "metadata": {},
   "outputs": [
    {
     "name": "stdout",
     "output_type": "stream",
     "text": [
      "Huskie\n"
     ]
    }
   ],
   "source": [
    "print(frank.breed)"
   ]
  },
  {
   "cell_type": "code",
   "execution_count": 38,
   "id": "7c712292-ebab-4bfb-9036-85800c9a411b",
   "metadata": {},
   "outputs": [],
   "source": [
    "class Dog:\n",
    "    species = \"Canis familiaris\"\n",
    "    def __init__(self,name,age):\n",
    "        self.name=name\n",
    "        self.age=age\n"
   ]
  },
  {
   "cell_type": "code",
   "execution_count": 41,
   "id": "85e4bc6c-8258-4814-a939-b9688be37a96",
   "metadata": {},
   "outputs": [
    {
     "ename": "TypeError",
     "evalue": "Dog.__init__() missing 2 required positional arguments: 'name' and 'age'",
     "output_type": "error",
     "traceback": [
      "\u001b[1;31m---------------------------------------------------------------------------\u001b[0m",
      "\u001b[1;31mTypeError\u001b[0m                                 Traceback (most recent call last)",
      "Cell \u001b[1;32mIn[41], line 1\u001b[0m\n\u001b[1;32m----> 1\u001b[0m \u001b[43mDog\u001b[49m\u001b[43m(\u001b[49m\u001b[43m)\u001b[49m\n",
      "\u001b[1;31mTypeError\u001b[0m: Dog.__init__() missing 2 required positional arguments: 'name' and 'age'"
     ]
    }
   ],
   "source": [
    "Dog()\n",
    "buddy=Dog(\"Buddy\",9)\n",
    "miles=Dog(\"Miles\",4)\n",
    "buddy.species"
   ]
  },
  {
   "cell_type": "code",
   "execution_count": 40,
   "id": "ff0b5193-6644-49bd-ac58-04648cf3f428",
   "metadata": {},
   "outputs": [
    {
     "ename": "NameError",
     "evalue": "name 'buddy' is not defined",
     "output_type": "error",
     "traceback": [
      "\u001b[1;31m---------------------------------------------------------------------------\u001b[0m",
      "\u001b[1;31mNameError\u001b[0m                                 Traceback (most recent call last)",
      "Cell \u001b[1;32mIn[40], line 1\u001b[0m\n\u001b[1;32m----> 1\u001b[0m \u001b[43mbuddy\u001b[49m\u001b[38;5;241m.\u001b[39mage\u001b[38;5;241m=\u001b[39m\u001b[38;5;241m10\u001b[39m\n\u001b[0;32m      2\u001b[0m buddy\u001b[38;5;241m.\u001b[39mage\n\u001b[0;32m      3\u001b[0m miles\u001b[38;5;241m.\u001b[39mspecies\u001b[38;5;241m=\u001b[39m\u001b[38;5;124m\"\u001b[39m\u001b[38;5;124mFelis silvestris\u001b[39m\u001b[38;5;124m\"\u001b[39m\n",
      "\u001b[1;31mNameError\u001b[0m: name 'buddy' is not defined"
     ]
    }
   ],
   "source": [
    "buddy.age=10\n",
    "buddy.age\n",
    "miles.species=\"Felis silvestris\"\n",
    "miles.species"
   ]
  },
  {
   "cell_type": "code",
   "execution_count": null,
   "id": "363f7c21-cdd5-4137-bfc4-764e29ddad08",
   "metadata": {},
   "outputs": [],
   "source": [
    "class Dog:\n",
    "    species=\"Canis familiaris\"\n",
    "    def __init__(self,name,age):\n",
    "        self.name=name\n",
    "        self.age=age\n",
    "    def description(self):\n",
    "        return f\"{self.name} is {self.age} years old\"\n",
    "\n",
    "    def speak(self,sound):\n",
    "        return f\"{self.name} says {sound}\""
   ]
  },
  {
   "cell_type": "code",
   "execution_count": 42,
   "id": "717ebf04-9e0a-4e33-bf9e-5693ae708aab",
   "metadata": {},
   "outputs": [],
   "source": [
    "#self similar to this"
   ]
  },
  {
   "cell_type": "code",
   "execution_count": 48,
   "id": "b4a6de0b-7b4a-4f56-b138-a4912b275e47",
   "metadata": {},
   "outputs": [],
   "source": [
    "class Person:\n",
    "    def __init__(self,firstname,lastname,age,country,city):\n",
    "        self.firstname=firstname\n",
    "        self.lastname=lastname\n",
    "        self.age=age\n",
    "        self.country=country\n",
    "        self.city=city\n",
    "    def person_info(self):\n",
    "        return f\"{self.firstname} {self.lastname} is {self.age} years old. She lives in {self.city}, {self.country}\""
   ]
  },
  {
   "cell_type": "code",
   "execution_count": 49,
   "id": "1c1ac41c-1d97-47a3-a1f7-d798143489ec",
   "metadata": {},
   "outputs": [],
   "source": [
    "p=Person('Shristi','Pokhrel',23,'Nepal','Ktm')"
   ]
  },
  {
   "cell_type": "code",
   "execution_count": 50,
   "id": "8ef90f31-c350-4e56-a435-cdf059277014",
   "metadata": {},
   "outputs": [
    {
     "name": "stdout",
     "output_type": "stream",
     "text": [
      "Shristi Pokhrel is 23 years old. She lives in Ktm, Nepal\n"
     ]
    }
   ],
   "source": [
    "print(p.person_info())"
   ]
  },
  {
   "cell_type": "code",
   "execution_count": 1,
   "id": "61e7aa88-39c3-4a77-a5b5-ddff5cde3274",
   "metadata": {},
   "outputs": [],
   "source": [
    "#Modifying Class Default Values\n"
   ]
  },
  {
   "cell_type": "code",
   "execution_count": 3,
   "id": "6ed5133b-e741-4921-8b47-48c67498c575",
   "metadata": {},
   "outputs": [],
   "source": [
    "class Person:\n",
    "    def __init__(self, firstname='uttam', lastname='Pradhan',age=32,country='England',city='London'):\n",
    "        self.firstname= firstname\n",
    "        self.lastname=lastname\n",
    "        self.age=age\n",
    "        self.country=country\n",
    "        self.city=city\n",
    "        self.skills=[]\n",
    "    def person_info(self):\n",
    "        return f'{self.firstname} {self.lastname} is {self.age} years old. He lives in {self.city}, {self.country}'\n",
    "    def add_skills(self,skill):\n",
    "        self.skills.append(skill)\n",
    "        "
   ]
  },
  {
   "cell_type": "code",
   "execution_count": 18,
   "id": "8d3f7233-c6a7-4cca-b6f9-7225b4d21ce9",
   "metadata": {},
   "outputs": [],
   "source": [
    "p1=Person()"
   ]
  },
  {
   "cell_type": "raw",
   "id": "82b40783-bab7-4f81-b2e8-3bd92fd13ac2",
   "metadata": {},
   "source": [
    "print(p1.person_info())"
   ]
  },
  {
   "cell_type": "code",
   "execution_count": 17,
   "id": "ae480a98-ccbc-4a10-ac00-74855229eb14",
   "metadata": {},
   "outputs": [],
   "source": [
    "p1.add_skills('Python')"
   ]
  },
  {
   "cell_type": "code",
   "execution_count": 9,
   "id": "757772e7-a848-4cd7-9329-75d531246ee5",
   "metadata": {},
   "outputs": [],
   "source": [
    "p1.add_skills('Matlab')"
   ]
  },
  {
   "cell_type": "code",
   "execution_count": 10,
   "id": "19092fe5-a5d9-45d1-a09f-75494fd237b3",
   "metadata": {},
   "outputs": [],
   "source": [
    "p1.add_skills('R')"
   ]
  },
  {
   "cell_type": "code",
   "execution_count": 11,
   "id": "9a3bcd1a-a6f6-47bd-8a87-d78022b2cb30",
   "metadata": {},
   "outputs": [],
   "source": [
    "p2= Person('Ben','Doe',30,'Finland','Tampere')"
   ]
  },
  {
   "cell_type": "code",
   "execution_count": 12,
   "id": "03932f8a-cda2-4f29-9e1f-ce4acfb80308",
   "metadata": {},
   "outputs": [
    {
     "name": "stdout",
     "output_type": "stream",
     "text": [
      "Ben Doe is 30 years old. Hhe lives in Tampere, Finland\n"
     ]
    }
   ],
   "source": [
    "print(p2.person_info())"
   ]
  },
  {
   "cell_type": "code",
   "execution_count": 13,
   "id": "faee7cfc-1d7c-46ab-8be8-4ac1b75dc920",
   "metadata": {},
   "outputs": [
    {
     "name": "stdout",
     "output_type": "stream",
     "text": [
      "['Python', 'Matlab', 'R']\n"
     ]
    }
   ],
   "source": [
    "print(p1.skills)"
   ]
  },
  {
   "cell_type": "code",
   "execution_count": 14,
   "id": "a80141c9-67ca-4259-868f-5617cb4ff478",
   "metadata": {},
   "outputs": [
    {
     "name": "stdout",
     "output_type": "stream",
     "text": [
      "[]\n"
     ]
    }
   ],
   "source": [
    "print(p2.skills)"
   ]
  },
  {
   "cell_type": "code",
   "execution_count": 19,
   "id": "4e358a86-8eb0-4940-9de0-0713b92a8a64",
   "metadata": {},
   "outputs": [],
   "source": [
    "#Operator Overloading"
   ]
  },
  {
   "cell_type": "code",
   "execution_count": 20,
   "id": "747a8390-6180-48cb-a6dd-bce22a635713",
   "metadata": {},
   "outputs": [],
   "source": [
    "class Point:\n",
    "    def __init__(self,x=0,y=0):\n",
    "        self.x=x\n",
    "        self.y=y\n",
    "        "
   ]
  },
  {
   "cell_type": "code",
   "execution_count": 21,
   "id": "70a4a1a2-bb29-4fb6-8edd-c83ed566b47c",
   "metadata": {},
   "outputs": [],
   "source": [
    "p1=Point(1,2)\n"
   ]
  },
  {
   "cell_type": "code",
   "execution_count": 22,
   "id": "0686c183-b60d-4f6e-8daf-7be51c20d0c1",
   "metadata": {},
   "outputs": [],
   "source": [
    "p2=Point(2,3)"
   ]
  },
  {
   "cell_type": "code",
   "execution_count": 23,
   "id": "a7bbe976-9cde-4ea4-824a-2884b96cebe3",
   "metadata": {},
   "outputs": [
    {
     "ename": "TypeError",
     "evalue": "unsupported operand type(s) for +: 'Point' and 'Point'",
     "output_type": "error",
     "traceback": [
      "\u001b[1;31m---------------------------------------------------------------------------\u001b[0m",
      "\u001b[1;31mTypeError\u001b[0m                                 Traceback (most recent call last)",
      "Cell \u001b[1;32mIn[23], line 1\u001b[0m\n\u001b[1;32m----> 1\u001b[0m \u001b[38;5;28mprint\u001b[39m(\u001b[43mp1\u001b[49m\u001b[38;5;241;43m+\u001b[39;49m\u001b[43mp2\u001b[49m)\n",
      "\u001b[1;31mTypeError\u001b[0m: unsupported operand type(s) for +: 'Point' and 'Point'"
     ]
    }
   ],
   "source": [
    "print(p1+p2)"
   ]
  },
  {
   "cell_type": "code",
   "execution_count": 25,
   "id": "35ecfe05-6063-4904-afcf-d975b27dfbd0",
   "metadata": {},
   "outputs": [],
   "source": [
    "class Book:\n",
    "    def __init__(self,pages):\n",
    "        self.pages=pages\n",
    "\n",
    "    def __add__(self,other):\n",
    "        return self.pages + other.pages"
   ]
  },
  {
   "cell_type": "code",
   "execution_count": 26,
   "id": "aaf2d15e-f4d7-4659-af04-c6c4393fdc9c",
   "metadata": {},
   "outputs": [],
   "source": [
    "b1=Book(150)"
   ]
  },
  {
   "cell_type": "code",
   "execution_count": 27,
   "id": "886e3b46-9f20-46b9-8919-75603440071e",
   "metadata": {},
   "outputs": [],
   "source": [
    "b2=Book(100)"
   ]
  },
  {
   "cell_type": "code",
   "execution_count": 28,
   "id": "f9a54183-b6da-48f6-b015-5de340486d38",
   "metadata": {},
   "outputs": [
    {
     "name": "stdout",
     "output_type": "stream",
     "text": [
      "total number of pages: 250\n"
     ]
    }
   ],
   "source": [
    "print(\"total number of pages:\", b1 +b2)"
   ]
  },
  {
   "cell_type": "code",
   "execution_count": 29,
   "id": "89ed6b7a-2c58-4561-977d-dcc0eaa483c1",
   "metadata": {},
   "outputs": [],
   "source": [
    "#Overloading + Operator\n"
   ]
  },
  {
   "cell_type": "code",
   "execution_count": 31,
   "id": "abf97f1b-489d-46f9-a1de-8765aa0100c6",
   "metadata": {},
   "outputs": [],
   "source": [
    "class Point:\n",
    "    def __init__(self,x=0,y=0):\n",
    "        self.x=x\n",
    "        self.y=y\n",
    "    def __str__(self):\n",
    "        return\"({0},{1})\".format(self.x,self.y)\n",
    "    def __add__(self,other):\n",
    "        x=self.x+other.x\n",
    "        y=self.y+other.y\n",
    "        return Point(x,y)"
   ]
  },
  {
   "cell_type": "code",
   "execution_count": 32,
   "id": "e29f49aa-1310-426e-b96a-d78cff8da86c",
   "metadata": {},
   "outputs": [],
   "source": [
    "p1=Point(1,2)"
   ]
  },
  {
   "cell_type": "code",
   "execution_count": 33,
   "id": "51dffa0c-ef90-4a4e-ab09-d6b76a6a5026",
   "metadata": {},
   "outputs": [],
   "source": [
    "p2=Point(2,3)"
   ]
  },
  {
   "cell_type": "code",
   "execution_count": 34,
   "id": "10e8a6c8-1bf8-410f-a955-b2c61731c18f",
   "metadata": {},
   "outputs": [
    {
     "name": "stdout",
     "output_type": "stream",
     "text": [
      "(3,5)\n"
     ]
    }
   ],
   "source": [
    "print(p1+p2)"
   ]
  },
  {
   "cell_type": "code",
   "execution_count": 35,
   "id": "a43afa3e-2dc1-410d-9108-0bd4d5d3e15b",
   "metadata": {},
   "outputs": [],
   "source": [
    "class Point:\n",
    "    def __init__(self,x=0,y=0):\n",
    "        self.x=x\n",
    "        self.y=y\n",
    "    def __str__(self):\n",
    "        return\"({0},{1})\".format(self.x,self.y)\n",
    "    def __lt__(self,other):\n",
    "        self_mag=(self.x**2)+(self.y**2)\n",
    "        other_mag=(other.x**2)+(other.y**2)\n",
    "        return self_mag<other_mag\n",
    "        "
   ]
  },
  {
   "cell_type": "code",
   "execution_count": 36,
   "id": "2c24944d-f009-4375-a319-987992091ab8",
   "metadata": {},
   "outputs": [],
   "source": [
    "p1=Point(1,1)"
   ]
  },
  {
   "cell_type": "code",
   "execution_count": 37,
   "id": "39b47fc8-993d-4eda-9ced-969ea096186f",
   "metadata": {},
   "outputs": [],
   "source": [
    "p2=Point(-2,-2)"
   ]
  },
  {
   "cell_type": "code",
   "execution_count": 38,
   "id": "81efef23-1208-46cb-936e-4c4bf9503950",
   "metadata": {},
   "outputs": [],
   "source": [
    "p3=Point(1,-1)"
   ]
  },
  {
   "cell_type": "code",
   "execution_count": 39,
   "id": "4b81b5c2-236c-42f4-be10-a0baa9d22731",
   "metadata": {},
   "outputs": [
    {
     "name": "stdout",
     "output_type": "stream",
     "text": [
      "True\n"
     ]
    }
   ],
   "source": [
    "print(p1<p2)"
   ]
  },
  {
   "cell_type": "code",
   "execution_count": 40,
   "id": "a4f7bad6-a1d9-4edd-b23f-721d95e6bf17",
   "metadata": {},
   "outputs": [
    {
     "name": "stdout",
     "output_type": "stream",
     "text": [
      "False\n"
     ]
    }
   ],
   "source": [
    "print(p2<p3)"
   ]
  },
  {
   "cell_type": "code",
   "execution_count": 41,
   "id": "86e33433-0a3a-4cf7-8a4d-2da0cdcdf427",
   "metadata": {},
   "outputs": [
    {
     "name": "stdout",
     "output_type": "stream",
     "text": [
      "False\n"
     ]
    }
   ],
   "source": [
    "print(p1<p3)"
   ]
  },
  {
   "cell_type": "code",
   "execution_count": 42,
   "id": "1414ebdd-a064-4207-8b00-70f46245f309",
   "metadata": {},
   "outputs": [],
   "source": [
    "#Inheritance"
   ]
  },
  {
   "cell_type": "code",
   "execution_count": 43,
   "id": "3cdd52dc-9b45-425a-81d4-1b628319529e",
   "metadata": {},
   "outputs": [],
   "source": [
    "class Vehicle:\n",
    "    def Vehicle_info(self):\n",
    "        print(\"Inside Vehicle Class\")"
   ]
  },
  {
   "cell_type": "code",
   "execution_count": 44,
   "id": "45ee096e-e452-4266-9210-de97a498af70",
   "metadata": {},
   "outputs": [],
   "source": [
    "class Car(Vehicle):\n",
    "    def car_info(self):\n",
    "        print(\"Inside Car Class\")"
   ]
  },
  {
   "cell_type": "code",
   "execution_count": 45,
   "id": "577ce407-2a9d-423e-b354-d1383d1408b5",
   "metadata": {},
   "outputs": [],
   "source": [
    "car = Car()"
   ]
  },
  {
   "cell_type": "code",
   "execution_count": 46,
   "id": "d475bc0f-2848-4acd-8d94-c3c91e6951c6",
   "metadata": {},
   "outputs": [
    {
     "name": "stdout",
     "output_type": "stream",
     "text": [
      "Inside Vehicle Class\n"
     ]
    }
   ],
   "source": [
    "car.Vehicle_info()"
   ]
  },
  {
   "cell_type": "code",
   "execution_count": 47,
   "id": "92991fc4-9efd-41ca-9533-3b0f00c58ae6",
   "metadata": {},
   "outputs": [
    {
     "name": "stdout",
     "output_type": "stream",
     "text": [
      "Inside Car Class\n"
     ]
    }
   ],
   "source": [
    "car.car_info()"
   ]
  },
  {
   "cell_type": "code",
   "execution_count": 49,
   "id": "9636a9cd-74d6-41c6-acc9-f5f16d96329c",
   "metadata": {},
   "outputs": [],
   "source": [
    "class Person:\n",
    "    \"\"\"This is a Person Class with data\"\"\"\n",
    "    species=\"human\"\n",
    "    def __init__(self,name,age,address):\n",
    "        self.name=name\n",
    "        self.age=age\n",
    "        self.address=address\n",
    "    def info(self):\n",
    "        print(f\"name:{self.name}\")\n",
    "        print(f\"age:{self.age}\")\n",
    "        print(f\"address:{self.address}\")\n",
    "    def eat(self):\n",
    "        pass\n",
    "    def walk(self):\n",
    "        pass"
   ]
  },
  {
   "cell_type": "code",
   "execution_count": 50,
   "id": "c70344c5-cfcc-43b0-b77f-632b3a93ecc6",
   "metadata": {},
   "outputs": [],
   "source": [
    "person=Person('ramesh',32,'sdds')"
   ]
  },
  {
   "cell_type": "code",
   "execution_count": 51,
   "id": "28bae0f4-62a0-49af-8e1c-68945ecfa769",
   "metadata": {},
   "outputs": [
    {
     "name": "stdout",
     "output_type": "stream",
     "text": [
      "name:ramesh\n",
      "age:32\n",
      "address:sdds\n"
     ]
    }
   ],
   "source": [
    "person.info()"
   ]
  },
  {
   "cell_type": "code",
   "execution_count": 52,
   "id": "9d3c2173-517a-4d74-9936-5a7b505dbeac",
   "metadata": {},
   "outputs": [],
   "source": [
    "class Student(Person):\n",
    "    def __init__(self,name,age,address,qualification,college):\n",
    "        super().__init__(name,age,address)\n",
    "        self.qualification=qualification\n",
    "        self.college=college\n",
    "    def info(self):\n",
    "        super().info()\n",
    "        print(f\"qualification: {self.qualification}\")\n",
    "        print(f\"college:{self.college}\")\n",
    "    def learn(self):\n",
    "        pass\n",
    "    def write(self):\n",
    "        pass\n",
    "    def play(self):\n",
    "        pass \n",
    "        "
   ]
  },
  {
   "cell_type": "code",
   "execution_count": 53,
   "id": "9412ea06-8070-4a45-a284-3c19d0c9fb60",
   "metadata": {},
   "outputs": [],
   "source": [
    "std= Student('ramesh',32,'ktm','bachelor','NCIT')"
   ]
  },
  {
   "cell_type": "code",
   "execution_count": 54,
   "id": "86e51e0d-9b93-4db4-9fe2-208d42b87179",
   "metadata": {},
   "outputs": [
    {
     "name": "stdout",
     "output_type": "stream",
     "text": [
      "name:ramesh\n",
      "age:32\n",
      "address:ktm\n",
      "qualification: bachelor\n",
      "college:NCIT\n"
     ]
    }
   ],
   "source": [
    "std.info()"
   ]
  },
  {
   "cell_type": "code",
   "execution_count": 1,
   "id": "0f1b648c-354d-42ce-bc8e-7aa1415dc892",
   "metadata": {},
   "outputs": [],
   "source": [
    "#Overloading Comparison Operators\n",
    "\n"
   ]
  },
  {
   "cell_type": "code",
   "execution_count": 5,
   "id": "e1349329-10d6-4709-980f-ceb2a10c2bae",
   "metadata": {},
   "outputs": [],
   "source": [
    "class Point:\n",
    "    def __init__(self,x=0,y=0):\n",
    "        self.x=x\n",
    "        self.y=y\n",
    "    def __str__(self):\n",
    "        return\"({0},{1})\".format(self.x,self.y)\n",
    "    def __lt__(self,other):\n",
    "         self_mag= (self.x** 2) + (self.y ** 2)\n",
    "         other_mag= (other.x** 2) + (other.y ** 2)\n",
    "         return self_mag< other_mag\n",
    "        \n",
    "        \n",
    "                                 "
   ]
  },
  {
   "cell_type": "code",
   "execution_count": 6,
   "id": "0fba3195-4baf-491b-a443-173f064cd01a",
   "metadata": {},
   "outputs": [],
   "source": [
    "p1=Point(1,1)"
   ]
  },
  {
   "cell_type": "code",
   "execution_count": 7,
   "id": "e97a2dc1-b240-4001-a5ec-f5a1b1be4c9d",
   "metadata": {},
   "outputs": [],
   "source": [
    "p2=Point(-2,-3)"
   ]
  },
  {
   "cell_type": "code",
   "execution_count": 8,
   "id": "d6cdf26d-1967-4173-a078-9f05487a4ac8",
   "metadata": {},
   "outputs": [],
   "source": [
    "p3=Point(1,-1)"
   ]
  },
  {
   "cell_type": "code",
   "execution_count": 9,
   "id": "eab2aae2-5f8f-4cdf-af60-785518b424b1",
   "metadata": {},
   "outputs": [
    {
     "name": "stdout",
     "output_type": "stream",
     "text": [
      "True\n"
     ]
    }
   ],
   "source": [
    "print(p1<p2)"
   ]
  },
  {
   "cell_type": "code",
   "execution_count": 10,
   "id": "b212fef9-c784-4cbd-ac18-7cabac514860",
   "metadata": {},
   "outputs": [
    {
     "name": "stdout",
     "output_type": "stream",
     "text": [
      "False\n"
     ]
    }
   ],
   "source": [
    "print(p2<p3)"
   ]
  },
  {
   "cell_type": "code",
   "execution_count": 11,
   "id": "eb92755e-7b75-469b-a535-72302a67ff4d",
   "metadata": {},
   "outputs": [
    {
     "name": "stdout",
     "output_type": "stream",
     "text": [
      "False\n"
     ]
    }
   ],
   "source": [
    "print(p1<p3)"
   ]
  },
  {
   "cell_type": "code",
   "execution_count": 14,
   "id": "36c2a7bc-b3c6-46b6-83c2-f24c89678acb",
   "metadata": {},
   "outputs": [],
   "source": [
    "#Inheritence\n",
    "#Single Inheritance\n"
   ]
  },
  {
   "cell_type": "code",
   "execution_count": 16,
   "id": "7b7291d3-a45b-437b-8d22-c988a7ce2cbf",
   "metadata": {},
   "outputs": [],
   "source": [
    "class Vehicle:\n",
    " def Vehicle_info(self):\n",
    "     print('Inside Vehicle class')"
   ]
  },
  {
   "cell_type": "code",
   "execution_count": 19,
   "id": "0ef213d9-b8d0-41a7-bb30-3cf10c7815ee",
   "metadata": {},
   "outputs": [],
   "source": [
    " # Child class\n",
    "class Car(Vehicle):\n",
    "    def car_info(self):\n",
    "     print('Inside Car class')"
   ]
  },
  {
   "cell_type": "code",
   "execution_count": 20,
   "id": "dd806b1e-81f9-4d88-ba36-c2289bcfe285",
   "metadata": {},
   "outputs": [],
   "source": [
    " car = Car()\n"
   ]
  },
  {
   "cell_type": "code",
   "execution_count": 21,
   "id": "ab6f9c78-cd3e-4f22-8961-6e601858a0f8",
   "metadata": {},
   "outputs": [
    {
     "name": "stdout",
     "output_type": "stream",
     "text": [
      "Inside Vehicle class\n"
     ]
    }
   ],
   "source": [
    "car.Vehicle_info()"
   ]
  },
  {
   "cell_type": "code",
   "execution_count": 22,
   "id": "2a37633c-04a1-4f1a-aa31-b7c698a644ab",
   "metadata": {},
   "outputs": [
    {
     "name": "stdout",
     "output_type": "stream",
     "text": [
      "Inside Car class\n"
     ]
    }
   ],
   "source": [
    "car.car_info()"
   ]
  },
  {
   "cell_type": "code",
   "execution_count": 23,
   "id": "fb58863c-e6e4-4bf0-9e15-6af76112bb75",
   "metadata": {},
   "outputs": [],
   "source": [
    "class Animal:\n",
    " def __init__(self):\n",
    "     print(\"Animal created\")\n",
    " def whoAmI(self):\n",
    "     print(\"Animal\")\n",
    " def eat(self):\n",
    "     print(\"Eating\")\n",
    "class Dog(Animal):\n",
    " def __init__(self):\n",
    "     Animal.__init__(self)\n",
    "     print(\"Dog created\")\n",
    " def whoAmI(self):\n",
    "     print(\"Dog\")\n",
    " def bark(self):\n",
    "     print(\"Woof!\")\n"
   ]
  },
  {
   "cell_type": "code",
   "execution_count": 24,
   "id": "22575c2e-9623-494f-90df-143a1b16be86",
   "metadata": {},
   "outputs": [
    {
     "name": "stdout",
     "output_type": "stream",
     "text": [
      "Animal created\n",
      "Dog created\n"
     ]
    }
   ],
   "source": [
    "d=Dog()"
   ]
  },
  {
   "cell_type": "code",
   "execution_count": 26,
   "id": "813232dd-e7ec-412e-b9c4-991afa073c95",
   "metadata": {},
   "outputs": [
    {
     "name": "stdout",
     "output_type": "stream",
     "text": [
      "Dog\n"
     ]
    }
   ],
   "source": [
    "d.whoAmI()"
   ]
  },
  {
   "cell_type": "code",
   "execution_count": 27,
   "id": "34de0987-54a2-45cc-8cf5-d66834f72660",
   "metadata": {},
   "outputs": [
    {
     "name": "stdout",
     "output_type": "stream",
     "text": [
      "Eating\n"
     ]
    }
   ],
   "source": [
    "d.eat()"
   ]
  },
  {
   "cell_type": "code",
   "execution_count": 28,
   "id": "5066bbc0-2bd7-4551-b5fb-8f033c8ddcdd",
   "metadata": {},
   "outputs": [
    {
     "name": "stdout",
     "output_type": "stream",
     "text": [
      "Woof!\n"
     ]
    }
   ],
   "source": [
    "d.bark()"
   ]
  },
  {
   "cell_type": "code",
   "execution_count": 33,
   "id": "85d773ec-7583-45a6-9f8c-b2b93ff67feb",
   "metadata": {},
   "outputs": [],
   "source": [
    "class Person:\n",
    "    \"\"\"This is person class with data\"\"\"\n",
    "    species = \"human\"\n",
    "    def __init__(self, name, age, address): # double underscore / dunder / special method / constructor\n",
    "        self.name = name\n",
    "        self.age = age\n",
    "        self.address = address\n",
    "    def info(self):\n",
    "        print(f\"name: {self.name}\")\n",
    "        print(f\"age: {self.age}\")\n",
    "        print(f\"address: {self.address}\")\n",
    "    def eat(self):\n",
    "        pass\n",
    "    def walk(self):\n",
    "        pass"
   ]
  },
  {
   "cell_type": "code",
   "execution_count": 34,
   "id": "b4e6f474-5bf2-4206-92aa-cca805c8cc3d",
   "metadata": {},
   "outputs": [],
   "source": [
    "person = Person('ramesh', 32, 'sdafdas')"
   ]
  },
  {
   "cell_type": "code",
   "execution_count": 35,
   "id": "0024ed56-938c-4005-9b7e-1017f8cdc557",
   "metadata": {},
   "outputs": [
    {
     "name": "stdout",
     "output_type": "stream",
     "text": [
      "name: ramesh\n",
      "age: 32\n",
      "address: sdafdas\n"
     ]
    }
   ],
   "source": [
    "person.info()"
   ]
  },
  {
   "cell_type": "code",
   "execution_count": 36,
   "id": "fb30d09e-4723-49ee-b3f0-d00b1c5908b1",
   "metadata": {},
   "outputs": [],
   "source": [
    "class Student(Person):\n",
    "    def __init__(self, name, age, address, qualification, college):\n",
    "        super().__init__(name, age, address)\n",
    "        self.qualification = qualification\n",
    "        self.college = college\n",
    "    def info(self):\n",
    "        super().info()\n",
    "        print(f\"qualification: {self.qualification}\")\n",
    "        print(f\"college: {self.college}\")\n",
    "    def learn(self):\n",
    "        pass\n",
    "    def write(self):\n",
    "        pass\n",
    "    def play(self):\n",
    "        pass"
   ]
  },
  {
   "cell_type": "code",
   "execution_count": 37,
   "id": "21098fac-308b-4f4c-bf66-7d2f8913ab53",
   "metadata": {},
   "outputs": [],
   "source": [
    "std = Student('ramesh', 32, 'ktm', 'bachelor', 'NCIT')\n"
   ]
  },
  {
   "cell_type": "code",
   "execution_count": 38,
   "id": "e166d45a-23ec-46fe-b0f6-465e6ce019e1",
   "metadata": {},
   "outputs": [
    {
     "name": "stdout",
     "output_type": "stream",
     "text": [
      "name: ramesh\n",
      "age: 32\n",
      "address: ktm\n",
      "qualification: bachelor\n",
      "college: NCIT\n"
     ]
    }
   ],
   "source": [
    "std.info()"
   ]
  },
  {
   "cell_type": "code",
   "execution_count": 39,
   "id": "8be4eaef-3dda-4a6f-8c2e-6742e7b02101",
   "metadata": {},
   "outputs": [],
   "source": [
    "#Multilevel Inheritance\n"
   ]
  },
  {
   "cell_type": "code",
   "execution_count": 40,
   "id": "621f2d84-1a72-4d4a-ace5-972e0874bb0e",
   "metadata": {},
   "outputs": [],
   "source": [
    " # Base class 1\n",
    "class Person:\n",
    "    def person_info(self, name, age):\n",
    "        print('Inside Person class')\n",
    "        print('Name:', name, 'Age:', age)"
   ]
  },
  {
   "cell_type": "code",
   "execution_count": 41,
   "id": "91dc62a3-def1-4ac6-9bbb-0b48f5354bb9",
   "metadata": {},
   "outputs": [],
   "source": [
    " # Base class 2\n",
    "class Company:\n",
    "    def company_info(self, company_name, location):\n",
    "        print('Inside Company class')\n",
    "        print('Name:', company_name, 'location:', location)"
   ]
  },
  {
   "cell_type": "code",
   "execution_count": 42,
   "id": "cbcda18d-a43d-41cc-9970-82fa5f35a9ff",
   "metadata": {},
   "outputs": [],
   "source": [
    "# Derived class\n",
    "class Employee(Person, Company): # multiple inheritence\n",
    "    def employee_info(self, salary, skill):\n",
    "        print('Inside Employee class')\n",
    "        print('Salary:', salary, 'Skill:', skill)"
   ]
  },
  {
   "cell_type": "code",
   "execution_count": 43,
   "id": "73a6b6d2-6586-45f8-8ca0-620afb411ac0",
   "metadata": {},
   "outputs": [],
   "source": [
    "emp= Employee()"
   ]
  },
  {
   "cell_type": "code",
   "execution_count": 44,
   "id": "fa1d7bd0-771e-4b02-9296-f615d3b87461",
   "metadata": {},
   "outputs": [
    {
     "name": "stdout",
     "output_type": "stream",
     "text": [
      "Inside Person class\n",
      "Name: Ramesh Age: 33\n"
     ]
    }
   ],
   "source": [
    " emp.person_info('Ramesh', 33)"
   ]
  },
  {
   "cell_type": "code",
   "execution_count": 45,
   "id": "ced91f02-f187-47f2-b3f5-11273d6ecb91",
   "metadata": {},
   "outputs": [
    {
     "name": "stdout",
     "output_type": "stream",
     "text": [
      "Inside Company class\n",
      "Name: Google location: Atlanta\n"
     ]
    }
   ],
   "source": [
    "emp.company_info('Google', 'Atlanta')"
   ]
  },
  {
   "cell_type": "code",
   "execution_count": 46,
   "id": "b58edb9e-0887-4991-b53c-b260eb2cac14",
   "metadata": {},
   "outputs": [
    {
     "name": "stdout",
     "output_type": "stream",
     "text": [
      "Inside Employee class\n",
      "Salary: 19000 Skill: Machine Learning\n"
     ]
    }
   ],
   "source": [
    "emp.employee_info(19000, 'Machine Learning')"
   ]
  },
  {
   "cell_type": "code",
   "execution_count": 47,
   "id": "dff25bc0-3e2a-4a50-9e71-042280705452",
   "metadata": {},
   "outputs": [],
   "source": [
    "#super() function\n"
   ]
  },
  {
   "cell_type": "code",
   "execution_count": 48,
   "id": "989a23a6-cdf3-4e5f-9620-cd39941505b9",
   "metadata": {},
   "outputs": [],
   "source": [
    "class Company:\n",
    "    def company_name(self):\n",
    "        return 'Google'"
   ]
  },
  {
   "cell_type": "code",
   "execution_count": 49,
   "id": "f8da2e52-1658-49ab-aabb-d07d92b1c87e",
   "metadata": {},
   "outputs": [],
   "source": [
    "class Employee(Company):\n",
    "    def info(self):\n",
    " # Calling the superclass method using super()function\n",
    "        c_name = super().company_name()\n",
    "        print(\"Arthur works at\", c_name)"
   ]
  },
  {
   "cell_type": "code",
   "execution_count": 50,
   "id": "2fe4d78d-ee85-4b6f-84d2-e409b7e44e7d",
   "metadata": {},
   "outputs": [],
   "source": [
    " # Creating object of child class\n",
    "emp= Employee()\n"
   ]
  },
  {
   "cell_type": "code",
   "execution_count": 51,
   "id": "b72a882c-b196-4323-b806-155094b71836",
   "metadata": {},
   "outputs": [
    {
     "name": "stdout",
     "output_type": "stream",
     "text": [
      "Arthur works at Google\n"
     ]
    }
   ],
   "source": [
    "emp.info()"
   ]
  },
  {
   "cell_type": "code",
   "execution_count": null,
   "id": "980c4490-99ff-4d3d-91c5-6d9768a1cf62",
   "metadata": {},
   "outputs": [],
   "source": []
  }
 ],
 "metadata": {
  "kernelspec": {
   "display_name": "Python 3 (ipykernel)",
   "language": "python",
   "name": "python3"
  },
  "language_info": {
   "codemirror_mode": {
    "name": "ipython",
    "version": 3
   },
   "file_extension": ".py",
   "mimetype": "text/x-python",
   "name": "python",
   "nbconvert_exporter": "python",
   "pygments_lexer": "ipython3",
   "version": "3.13.2"
  }
 },
 "nbformat": 4,
 "nbformat_minor": 5
}
