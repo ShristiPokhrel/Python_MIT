{
 "cells": [
  {
   "cell_type": "code",
   "execution_count": 7,
   "id": "069ca3b0-38eb-4486-9e64-e40ff5fd8bc1",
   "metadata": {},
   "outputs": [],
   "source": [
    "import numpy as np\n",
    "data= np.array([1,3,5,8],dtype='float')"
   ]
  },
  {
   "cell_type": "code",
   "execution_count": 11,
   "id": "ac1a1fbd-2282-415b-b639-3e10c41da99f",
   "metadata": {},
   "outputs": [
    {
     "name": "stdout",
     "output_type": "stream",
     "text": [
      "[1. 3. 5. 8.]\n"
     ]
    }
   ],
   "source": [
    "print(data);"
   ]
  },
  {
   "cell_type": "code",
   "execution_count": 26,
   "id": "9d1387e5-f1d7-4dc5-a9c2-c57aaac63774",
   "metadata": {},
   "outputs": [
    {
     "name": "stdout",
     "output_type": "stream",
     "text": [
      "['2.5' '3.7' '9.1']\n"
     ]
    }
   ],
   "source": [
    "import numpy as np\n",
    "data = np.array(['2.5','3.7','9.1'], dtype=np.str_)\n",
    "print(data)"
   ]
  },
  {
   "cell_type": "code",
   "execution_count": 27,
   "id": "01386b32-44e4-4ca5-abb9-e5ce5701e30d",
   "metadata": {},
   "outputs": [
    {
     "name": "stdout",
     "output_type": "stream",
     "text": [
      "[2.5 3.7 9.1]\n"
     ]
    }
   ],
   "source": [
    "data=data.astype('float64')\n",
    "print(data)"
   ]
  },
  {
   "cell_type": "code",
   "execution_count": 28,
   "id": "524dfdf3-198f-4519-8bae-86e1ca87f620",
   "metadata": {},
   "outputs": [
    {
     "name": "stdout",
     "output_type": "stream",
     "text": [
      "float64\n"
     ]
    }
   ],
   "source": [
    "print(data.dtype)"
   ]
  },
  {
   "cell_type": "code",
   "execution_count": 30,
   "id": "55565f4d-bb5d-45cf-9af5-e32cdacb065b",
   "metadata": {},
   "outputs": [
    {
     "name": "stdout",
     "output_type": "stream",
     "text": [
      "[[1. 2. 3.]\n",
      " [4. 5. 6.]]\n"
     ]
    }
   ],
   "source": [
    "#Operations between Arrays and Scalars\n",
    "a=np.array([[1.,2.,3.],[4.,5.,6.]])\n",
    "print(a)"
   ]
  },
  {
   "cell_type": "code",
   "execution_count": 33,
   "id": "9d03d930-2617-44c1-879e-0cd743589c59",
   "metadata": {},
   "outputs": [
    {
     "name": "stdout",
     "output_type": "stream",
     "text": [
      "Element wise multiplication of arrays:\n",
      "[[ 1.  4.  9.]\n",
      " [16. 25. 36.]]\n"
     ]
    }
   ],
   "source": [
    "r=a*a\n",
    "print(\"Element wise multiplication of arrays:\")\n",
    "print(r)"
   ]
  },
  {
   "cell_type": "code",
   "execution_count": 34,
   "id": "1396f67c-e628-4331-9e17-242639fb33c7",
   "metadata": {},
   "outputs": [
    {
     "name": "stdout",
     "output_type": "stream",
     "text": [
      "Sum of arrays:\n",
      "[[ 2.  4.  6.]\n",
      " [ 8. 10. 12.]]\n"
     ]
    }
   ],
   "source": [
    "r=a+a\n",
    "print(\"Sum of arrays:\")\n",
    "print(r)"
   ]
  },
  {
   "cell_type": "code",
   "execution_count": 36,
   "id": "821dd023-9899-4d87-bdca-07c466e522fb",
   "metadata": {},
   "outputs": [
    {
     "name": "stdout",
     "output_type": "stream",
     "text": [
      "Half of array elements:\n",
      "[[0.5 1.  1.5]\n",
      " [2.  2.5 3. ]]\n"
     ]
    }
   ],
   "source": [
    "r=a/2\n",
    "print(\"Half of array elements:\")\n",
    "print(r)"
   ]
  },
  {
   "cell_type": "code",
   "execution_count": 39,
   "id": "1255de29-f64a-4dc4-bd40-bd2d52679304",
   "metadata": {},
   "outputs": [
    {
     "name": "stdout",
     "output_type": "stream",
     "text": [
      "Square root of array elements:\n",
      "[[1.         1.41421356 1.73205081]\n",
      " [2.         2.23606798 2.44948974]]\n"
     ]
    }
   ],
   "source": [
    "r=a**0.5\n",
    "print(\"Square root of array elements:\")\n",
    "print(r)"
   ]
  },
  {
   "cell_type": "code",
   "execution_count": 41,
   "id": "3227d79d-86e4-4ab8-85dd-c50ce60e17a6",
   "metadata": {},
   "outputs": [
    {
     "name": "stdout",
     "output_type": "stream",
     "text": [
      "Array elements:\n",
      "[0 1 2 3 4 5 6 7 8 9]\n"
     ]
    }
   ],
   "source": [
    "#Basic Indexing and Slicing\n",
    "a=np.arange(10)\n",
    "print(\"Array elements:\")\n",
    "print(a)\n"
   ]
  },
  {
   "cell_type": "code",
   "execution_count": 42,
   "id": "50b43b11-616e-4b57-89b9-9d1774c5f91d",
   "metadata": {},
   "outputs": [
    {
     "name": "stdout",
     "output_type": "stream",
     "text": [
      "Element at index 3\n",
      "3\n"
     ]
    }
   ],
   "source": [
    "print(\"Element at index 3\")\n",
    "print(a[3])"
   ]
  },
  {
   "cell_type": "code",
   "execution_count": 45,
   "id": "cca2ccba-1469-4fe0-98d0-572fe2ce1750",
   "metadata": {},
   "outputs": [
    {
     "name": "stdout",
     "output_type": "stream",
     "text": [
      "Element at index 3-6\n",
      "[3 4 5 6]\n"
     ]
    }
   ],
   "source": [
    "print(\"Element at index 3-6\")\n",
    "print(a[3:7])"
   ]
  },
  {
   "cell_type": "code",
   "execution_count": 48,
   "id": "b5ba2c86-1e5b-44c8-a5d5-624afddc2ae1",
   "metadata": {},
   "outputs": [
    {
     "name": "stdout",
     "output_type": "stream",
     "text": [
      "Array elements:\n",
      "[ 1  2  3  4 15  6  7  8  9]\n"
     ]
    }
   ],
   "source": [
    "a=np.array([1,2,3,4,5,6,7,8,9])\n",
    "aslice=a[3:7]\n",
    "aslice[1]=15\n",
    "print(\"Array elements:\")\n",
    "print(a)"
   ]
  },
  {
   "cell_type": "code",
   "execution_count": 50,
   "id": "03b8f87a-84d7-4d41-b08b-e5a028992324",
   "metadata": {},
   "outputs": [
    {
     "name": "stdout",
     "output_type": "stream",
     "text": [
      "Array Elements at index 2\n",
      "[7 8 9]\n"
     ]
    }
   ],
   "source": [
    "#3 D Arrray\n",
    "a=np.array([[1,2,3],[4,5,6],[7,8,9]])\n",
    "print(\"Array Elements at index 2\")\n",
    "print (a[2])\n"
   ]
  },
  {
   "cell_type": "code",
   "execution_count": 52,
   "id": "8115dcb7-28c0-40f4-bc72-91e9220f0592",
   "metadata": {},
   "outputs": [
    {
     "name": "stdout",
     "output_type": "stream",
     "text": [
      "Array Elements at index 1,2\n",
      "6\n"
     ]
    }
   ],
   "source": [
    "print(\"Array Elements at index 1,2\")\n",
    "print (a[1][2])\n"
   ]
  },
  {
   "cell_type": "code",
   "execution_count": 54,
   "id": "42e3bb3e-09fc-46f6-971c-d99ebd2aec7d",
   "metadata": {},
   "outputs": [
    {
     "name": "stdout",
     "output_type": "stream",
     "text": [
      "6\n"
     ]
    }
   ],
   "source": [
    "print (a[1,2])"
   ]
  },
  {
   "cell_type": "code",
   "execution_count": 56,
   "id": "35c7b5b9-ad2c-44d5-a891-dfbf40b4bd06",
   "metadata": {},
   "outputs": [
    {
     "name": "stdout",
     "output_type": "stream",
     "text": [
      "Array Elements\n",
      "[[[ 1  2  3]\n",
      "  [ 4  5  6]]\n",
      "\n",
      " [[ 7  8  9]\n",
      "  [10 11 12]]]\n",
      "Array Elements at index 1\n",
      "[[ 7  8  9]\n",
      " [10 11 12]]\n",
      "Array Elements at index 1,1\n",
      "[10 11 12]\n",
      "Array Elements at index 1,1,2\n",
      "12\n"
     ]
    }
   ],
   "source": [
    "#Multidimensional Array\n",
    "a=np.array([[[1,2,3],[4,5,6]],[[7,8,9],[10,11,12]]])\n",
    "print(\"Array Elements\")\n",
    "print (a)\n",
    "print(\"Array Elements at index 1\")\n",
    "print (a[1])\n",
    "print(\"Array Elements at index 1,1\")\n",
    "print (a[1,1])\n",
    "print(\"Array Elements at index 1,1,2\")\n",
    "print (a[1,1,2])"
   ]
  },
  {
   "cell_type": "code",
   "execution_count": 5,
   "id": "248d0aa2-6a9b-421e-84ca-f66a97409ac5",
   "metadata": {},
   "outputs": [
    {
     "name": "stdout",
     "output_type": "stream",
     "text": [
      "Array Elements:\n",
      "[[1 2 3]\n",
      " [4 5 6]\n",
      " [7 8 9]]\n",
      "First Two Rows\n",
      "[[1 2 3]\n",
      " [4 5 6]]\n",
      "First two columns of array\n",
      "[[1 2]\n",
      " [4 5]\n",
      " [7 8]]\n",
      "2*2 slice in top left column\n",
      "[[1 2]\n",
      " [4 5]]\n"
     ]
    }
   ],
   "source": [
    "#Indexing with slices\n",
    "import numpy as np\n",
    "a=np.array([[1,2,3],[4,5,6],[7,8,9]])\n",
    "print(\"Array Elements:\")\n",
    "print (a)\n",
    "print(\"First Two Rows\")\n",
    "print(a[0:2])\n",
    "print(\"First two columns of array\")\n",
    "print(a[:,0:2])\n",
    "print(\"2*2 slice in top left column\")\n",
    "print(a[0:2,0:2])\n"
   ]
  },
  {
   "cell_type": "code",
   "execution_count": 6,
   "id": "2d45fc10-8d54-4a25-82d5-ad2e3713c342",
   "metadata": {},
   "outputs": [
    {
     "name": "stdout",
     "output_type": "stream",
     "text": [
      "[False  True False  True  True  True False False]\n",
      "[24 21 32 29]\n",
      "[12  0 16  0  0  0  7 15]\n"
     ]
    }
   ],
   "source": [
    "import numpy as np\n",
    "a=np.array([12,24,16,21,32,29,7,15])\n",
    "boolean_mask=a>20\n",
    "print(boolean_mask)\n",
    "print(a[boolean_mask])\n",
    "a[boolean_mask]=0\n",
    "print(a)\n"
   ]
  },
  {
   "cell_type": "code",
   "execution_count": 8,
   "id": "429789c8-a6ea-428f-b361-974740eeaf09",
   "metadata": {},
   "outputs": [
    {
     "name": "stdout",
     "output_type": "stream",
     "text": [
      "Simple Indexing: 4\n",
      "Fancy Indexing: [2 3 6 8]\n",
      "Indicies of Sorted Data: [0 1 2 3 4 5 6 7]\n",
      "Sorted Data: [1 2 3 4 5 6 7 8]\n",
      "Reverse Sorted Data: [8 7 6 5 4 3 2 1]\n"
     ]
    }
   ],
   "source": [
    "#Fancy Indexing\n",
    "a=np.array([1,2,3,4,5,6,7,8])\n",
    "simple_indexing=a[3]\n",
    "print(\"Simple Indexing:\", simple_indexing)\n",
    "fancy_indexing=a[[1,2,5,7]]\n",
    "print(\"Fancy Indexing:\",fancy_indexing)\n",
    "print(\"Indicies of Sorted Data:\", np.argsort(a))\n",
    "sorted_array=a[np.argsort(a)]\n",
    "print(\"Sorted Data:\",sorted_array)\n",
    "sorted_array=a[np.argsort(-a)]\n",
    "print(\"Reverse Sorted Data:\", sorted_array)"
   ]
  },
  {
   "cell_type": "code",
   "execution_count": 9,
   "id": "f2477632-439d-4d90-8748-dc7c1870b2bf",
   "metadata": {},
   "outputs": [
    {
     "name": "stdout",
     "output_type": "stream",
     "text": [
      "[[1 3 6]\n",
      " [1 4 9]]\n"
     ]
    }
   ],
   "source": [
    "a=np.array([[1,3,6],[2,7,1],[1,4,9]])\n",
    "ind=[0,2]\n",
    "print(a[ind])"
   ]
  },
  {
   "cell_type": "code",
   "execution_count": 13,
   "id": "74071b75-72be-47a9-998f-79c39bc556ba",
   "metadata": {},
   "outputs": [
    {
     "name": "stdout",
     "output_type": "stream",
     "text": [
      "Dataset: [0 1 2 3 4 5 6 7 8 9]\n",
      "Square roots: [0.         1.         1.41421356 1.73205081 2.         2.23606798\n",
      " 2.44948974 2.64575131 2.82842712 3.        ]\n",
      "Exp(a): [1.00000000e+00 2.71828183e+00 7.38905610e+00 2.00855369e+01\n",
      " 5.45981500e+01 1.48413159e+02 4.03428793e+02 1.09663316e+03\n",
      " 2.98095799e+03 8.10308393e+03]\n"
     ]
    }
   ],
   "source": [
    "#Universal Functions\n",
    "a = np.arange(10)\n",
    "print(\"Dataset:\",a)\n",
    "s=np.sqrt(a)\n",
    "print(\"Square roots:\",s)\n",
    "e=np.exp(a)\n",
    "print(\"Exp(a):\",e)\n",
    "x=np.random.randn(10)\n",
    "y=np.random.randn(10)"
   ]
  },
  {
   "cell_type": "code",
   "execution_count": 15,
   "id": "f3ba249b-1ec1-4e91-8745-ac1541105ca3",
   "metadata": {},
   "outputs": [
    {
     "name": "stdout",
     "output_type": "stream",
     "text": [
      "x= [-0.82797965  0.50884162  2.16001605  0.94547715 -1.21308329 -0.4517314\n",
      " -0.11850545 -0.52732543  0.31160999 -0.21550946]\n",
      "y= [-0.32691074  0.7211788   1.20764086 -0.10031957  0.85062719  1.47772438\n",
      " -1.73414785 -1.38019699  0.34750866 -1.04942448]\n",
      "z= [-0.32691074  0.7211788   2.16001605  0.94547715  0.85062719  1.47772438\n",
      " -0.11850545 -0.52732543  0.34750866 -0.21550946]\n",
      "Maximum= 2.1600160525623333\n",
      "Manimum= -1.2130832948652848\n"
     ]
    }
   ],
   "source": [
    "z=np.maximum(x,y)\n",
    "print(\"x=\",x)\n",
    "print(\"y=\",y)\n",
    "print(\"z=\",z)\n",
    "m=np.max(x)\n",
    "print(\"Maximum=\",m)\n",
    "m=np.min(x)\n",
    "print(\"Manimum=\",m)"
   ]
  },
  {
   "cell_type": "code",
   "execution_count": 18,
   "id": "87d40a33-843d-4c3f-8c63-50bcf042e8a7",
   "metadata": {},
   "outputs": [
    {
     "name": "stdout",
     "output_type": "stream",
     "text": [
      "Note: you may need to restart the kernel to use updated packages.Requirement already satisfied: numpy in c:\\python313\\mit\\venv\\lib\\site-packages (2.2.4)\n",
      "Requirement already satisfied: matplotlib in c:\\python313\\mit\\venv\\lib\\site-packages (3.10.1)\n",
      "Requirement already satisfied: contourpy>=1.0.1 in c:\\python313\\mit\\venv\\lib\\site-packages (from matplotlib) (1.3.1)\n",
      "Requirement already satisfied: cycler>=0.10 in c:\\python313\\mit\\venv\\lib\\site-packages (from matplotlib) (0.12.1)\n",
      "Requirement already satisfied: fonttools>=4.22.0 in c:\\python313\\mit\\venv\\lib\\site-packages (from matplotlib) (4.57.0)\n",
      "Requirement already satisfied: kiwisolver>=1.3.1 in c:\\python313\\mit\\venv\\lib\\site-packages (from matplotlib) (1.4.8)\n",
      "Requirement already satisfied: packaging>=20.0 in c:\\python313\\mit\\venv\\lib\\site-packages (from matplotlib) (24.2)\n",
      "Requirement already satisfied: pillow>=8 in c:\\python313\\mit\\venv\\lib\\site-packages (from matplotlib) (11.1.0)\n",
      "Requirement already satisfied: pyparsing>=2.3.1 in c:\\python313\\mit\\venv\\lib\\site-packages (from matplotlib) (3.2.3)\n",
      "Requirement already satisfied: python-dateutil>=2.7 in c:\\python313\\mit\\venv\\lib\\site-packages (from matplotlib) (2.9.0.post0)\n",
      "Requirement already satisfied: six>=1.5 in c:\\python313\\mit\\venv\\lib\\site-packages (from python-dateutil>=2.7->matplotlib) (1.17.0)\n",
      "\n"
     ]
    },
    {
     "name": "stderr",
     "output_type": "stream",
     "text": [
      "\n",
      "[notice] A new release of pip is available: 24.3.1 -> 25.0.1\n",
      "[notice] To update, run: python.exe -m pip install --upgrade pip\n"
     ]
    }
   ],
   "source": [
    "pip install numpy matplotlib\n"
   ]
  },
  {
   "cell_type": "code",
   "execution_count": 26,
   "id": "e402bfec-b522-4ae3-bef5-b47c411c7998",
   "metadata": {},
   "outputs": [
    {
     "name": "stdout",
     "output_type": "stream",
     "text": [
      "[-5.0000000e+00 -4.9900000e+00 -4.9800000e+00 -4.9700000e+00\n",
      " -4.9600000e+00 -4.9500000e+00 -4.9400000e+00 -4.9300000e+00\n",
      " -4.9200000e+00 -4.9100000e+00 -4.9000000e+00 -4.8900000e+00\n",
      " -4.8800000e+00 -4.8700000e+00 -4.8600000e+00 -4.8500000e+00\n",
      " -4.8400000e+00 -4.8300000e+00 -4.8200000e+00 -4.8100000e+00\n",
      " -4.8000000e+00 -4.7900000e+00 -4.7800000e+00 -4.7700000e+00\n",
      " -4.7600000e+00 -4.7500000e+00 -4.7400000e+00 -4.7300000e+00\n",
      " -4.7200000e+00 -4.7100000e+00 -4.7000000e+00 -4.6900000e+00\n",
      " -4.6800000e+00 -4.6700000e+00 -4.6600000e+00 -4.6500000e+00\n",
      " -4.6400000e+00 -4.6300000e+00 -4.6200000e+00 -4.6100000e+00\n",
      " -4.6000000e+00 -4.5900000e+00 -4.5800000e+00 -4.5700000e+00\n",
      " -4.5600000e+00 -4.5500000e+00 -4.5400000e+00 -4.5300000e+00\n",
      " -4.5200000e+00 -4.5100000e+00 -4.5000000e+00 -4.4900000e+00\n",
      " -4.4800000e+00 -4.4700000e+00 -4.4600000e+00 -4.4500000e+00\n",
      " -4.4400000e+00 -4.4300000e+00 -4.4200000e+00 -4.4100000e+00\n",
      " -4.4000000e+00 -4.3900000e+00 -4.3800000e+00 -4.3700000e+00\n",
      " -4.3600000e+00 -4.3500000e+00 -4.3400000e+00 -4.3300000e+00\n",
      " -4.3200000e+00 -4.3100000e+00 -4.3000000e+00 -4.2900000e+00\n",
      " -4.2800000e+00 -4.2700000e+00 -4.2600000e+00 -4.2500000e+00\n",
      " -4.2400000e+00 -4.2300000e+00 -4.2200000e+00 -4.2100000e+00\n",
      " -4.2000000e+00 -4.1900000e+00 -4.1800000e+00 -4.1700000e+00\n",
      " -4.1600000e+00 -4.1500000e+00 -4.1400000e+00 -4.1300000e+00\n",
      " -4.1200000e+00 -4.1100000e+00 -4.1000000e+00 -4.0900000e+00\n",
      " -4.0800000e+00 -4.0700000e+00 -4.0600000e+00 -4.0500000e+00\n",
      " -4.0400000e+00 -4.0300000e+00 -4.0200000e+00 -4.0100000e+00\n",
      " -4.0000000e+00 -3.9900000e+00 -3.9800000e+00 -3.9700000e+00\n",
      " -3.9600000e+00 -3.9500000e+00 -3.9400000e+00 -3.9300000e+00\n",
      " -3.9200000e+00 -3.9100000e+00 -3.9000000e+00 -3.8900000e+00\n",
      " -3.8800000e+00 -3.8700000e+00 -3.8600000e+00 -3.8500000e+00\n",
      " -3.8400000e+00 -3.8300000e+00 -3.8200000e+00 -3.8100000e+00\n",
      " -3.8000000e+00 -3.7900000e+00 -3.7800000e+00 -3.7700000e+00\n",
      " -3.7600000e+00 -3.7500000e+00 -3.7400000e+00 -3.7300000e+00\n",
      " -3.7200000e+00 -3.7100000e+00 -3.7000000e+00 -3.6900000e+00\n",
      " -3.6800000e+00 -3.6700000e+00 -3.6600000e+00 -3.6500000e+00\n",
      " -3.6400000e+00 -3.6300000e+00 -3.6200000e+00 -3.6100000e+00\n",
      " -3.6000000e+00 -3.5900000e+00 -3.5800000e+00 -3.5700000e+00\n",
      " -3.5600000e+00 -3.5500000e+00 -3.5400000e+00 -3.5300000e+00\n",
      " -3.5200000e+00 -3.5100000e+00 -3.5000000e+00 -3.4900000e+00\n",
      " -3.4800000e+00 -3.4700000e+00 -3.4600000e+00 -3.4500000e+00\n",
      " -3.4400000e+00 -3.4300000e+00 -3.4200000e+00 -3.4100000e+00\n",
      " -3.4000000e+00 -3.3900000e+00 -3.3800000e+00 -3.3700000e+00\n",
      " -3.3600000e+00 -3.3500000e+00 -3.3400000e+00 -3.3300000e+00\n",
      " -3.3200000e+00 -3.3100000e+00 -3.3000000e+00 -3.2900000e+00\n",
      " -3.2800000e+00 -3.2700000e+00 -3.2600000e+00 -3.2500000e+00\n",
      " -3.2400000e+00 -3.2300000e+00 -3.2200000e+00 -3.2100000e+00\n",
      " -3.2000000e+00 -3.1900000e+00 -3.1800000e+00 -3.1700000e+00\n",
      " -3.1600000e+00 -3.1500000e+00 -3.1400000e+00 -3.1300000e+00\n",
      " -3.1200000e+00 -3.1100000e+00 -3.1000000e+00 -3.0900000e+00\n",
      " -3.0800000e+00 -3.0700000e+00 -3.0600000e+00 -3.0500000e+00\n",
      " -3.0400000e+00 -3.0300000e+00 -3.0200000e+00 -3.0100000e+00\n",
      " -3.0000000e+00 -2.9900000e+00 -2.9800000e+00 -2.9700000e+00\n",
      " -2.9600000e+00 -2.9500000e+00 -2.9400000e+00 -2.9300000e+00\n",
      " -2.9200000e+00 -2.9100000e+00 -2.9000000e+00 -2.8900000e+00\n",
      " -2.8800000e+00 -2.8700000e+00 -2.8600000e+00 -2.8500000e+00\n",
      " -2.8400000e+00 -2.8300000e+00 -2.8200000e+00 -2.8100000e+00\n",
      " -2.8000000e+00 -2.7900000e+00 -2.7800000e+00 -2.7700000e+00\n",
      " -2.7600000e+00 -2.7500000e+00 -2.7400000e+00 -2.7300000e+00\n",
      " -2.7200000e+00 -2.7100000e+00 -2.7000000e+00 -2.6900000e+00\n",
      " -2.6800000e+00 -2.6700000e+00 -2.6600000e+00 -2.6500000e+00\n",
      " -2.6400000e+00 -2.6300000e+00 -2.6200000e+00 -2.6100000e+00\n",
      " -2.6000000e+00 -2.5900000e+00 -2.5800000e+00 -2.5700000e+00\n",
      " -2.5600000e+00 -2.5500000e+00 -2.5400000e+00 -2.5300000e+00\n",
      " -2.5200000e+00 -2.5100000e+00 -2.5000000e+00 -2.4900000e+00\n",
      " -2.4800000e+00 -2.4700000e+00 -2.4600000e+00 -2.4500000e+00\n",
      " -2.4400000e+00 -2.4300000e+00 -2.4200000e+00 -2.4100000e+00\n",
      " -2.4000000e+00 -2.3900000e+00 -2.3800000e+00 -2.3700000e+00\n",
      " -2.3600000e+00 -2.3500000e+00 -2.3400000e+00 -2.3300000e+00\n",
      " -2.3200000e+00 -2.3100000e+00 -2.3000000e+00 -2.2900000e+00\n",
      " -2.2800000e+00 -2.2700000e+00 -2.2600000e+00 -2.2500000e+00\n",
      " -2.2400000e+00 -2.2300000e+00 -2.2200000e+00 -2.2100000e+00\n",
      " -2.2000000e+00 -2.1900000e+00 -2.1800000e+00 -2.1700000e+00\n",
      " -2.1600000e+00 -2.1500000e+00 -2.1400000e+00 -2.1300000e+00\n",
      " -2.1200000e+00 -2.1100000e+00 -2.1000000e+00 -2.0900000e+00\n",
      " -2.0800000e+00 -2.0700000e+00 -2.0600000e+00 -2.0500000e+00\n",
      " -2.0400000e+00 -2.0300000e+00 -2.0200000e+00 -2.0100000e+00\n",
      " -2.0000000e+00 -1.9900000e+00 -1.9800000e+00 -1.9700000e+00\n",
      " -1.9600000e+00 -1.9500000e+00 -1.9400000e+00 -1.9300000e+00\n",
      " -1.9200000e+00 -1.9100000e+00 -1.9000000e+00 -1.8900000e+00\n",
      " -1.8800000e+00 -1.8700000e+00 -1.8600000e+00 -1.8500000e+00\n",
      " -1.8400000e+00 -1.8300000e+00 -1.8200000e+00 -1.8100000e+00\n",
      " -1.8000000e+00 -1.7900000e+00 -1.7800000e+00 -1.7700000e+00\n",
      " -1.7600000e+00 -1.7500000e+00 -1.7400000e+00 -1.7300000e+00\n",
      " -1.7200000e+00 -1.7100000e+00 -1.7000000e+00 -1.6900000e+00\n",
      " -1.6800000e+00 -1.6700000e+00 -1.6600000e+00 -1.6500000e+00\n",
      " -1.6400000e+00 -1.6300000e+00 -1.6200000e+00 -1.6100000e+00\n",
      " -1.6000000e+00 -1.5900000e+00 -1.5800000e+00 -1.5700000e+00\n",
      " -1.5600000e+00 -1.5500000e+00 -1.5400000e+00 -1.5300000e+00\n",
      " -1.5200000e+00 -1.5100000e+00 -1.5000000e+00 -1.4900000e+00\n",
      " -1.4800000e+00 -1.4700000e+00 -1.4600000e+00 -1.4500000e+00\n",
      " -1.4400000e+00 -1.4300000e+00 -1.4200000e+00 -1.4100000e+00\n",
      " -1.4000000e+00 -1.3900000e+00 -1.3800000e+00 -1.3700000e+00\n",
      " -1.3600000e+00 -1.3500000e+00 -1.3400000e+00 -1.3300000e+00\n",
      " -1.3200000e+00 -1.3100000e+00 -1.3000000e+00 -1.2900000e+00\n",
      " -1.2800000e+00 -1.2700000e+00 -1.2600000e+00 -1.2500000e+00\n",
      " -1.2400000e+00 -1.2300000e+00 -1.2200000e+00 -1.2100000e+00\n",
      " -1.2000000e+00 -1.1900000e+00 -1.1800000e+00 -1.1700000e+00\n",
      " -1.1600000e+00 -1.1500000e+00 -1.1400000e+00 -1.1300000e+00\n",
      " -1.1200000e+00 -1.1100000e+00 -1.1000000e+00 -1.0900000e+00\n",
      " -1.0800000e+00 -1.0700000e+00 -1.0600000e+00 -1.0500000e+00\n",
      " -1.0400000e+00 -1.0300000e+00 -1.0200000e+00 -1.0100000e+00\n",
      " -1.0000000e+00 -9.9000000e-01 -9.8000000e-01 -9.7000000e-01\n",
      " -9.6000000e-01 -9.5000000e-01 -9.4000000e-01 -9.3000000e-01\n",
      " -9.2000000e-01 -9.1000000e-01 -9.0000000e-01 -8.9000000e-01\n",
      " -8.8000000e-01 -8.7000000e-01 -8.6000000e-01 -8.5000000e-01\n",
      " -8.4000000e-01 -8.3000000e-01 -8.2000000e-01 -8.1000000e-01\n",
      " -8.0000000e-01 -7.9000000e-01 -7.8000000e-01 -7.7000000e-01\n",
      " -7.6000000e-01 -7.5000000e-01 -7.4000000e-01 -7.3000000e-01\n",
      " -7.2000000e-01 -7.1000000e-01 -7.0000000e-01 -6.9000000e-01\n",
      " -6.8000000e-01 -6.7000000e-01 -6.6000000e-01 -6.5000000e-01\n",
      " -6.4000000e-01 -6.3000000e-01 -6.2000000e-01 -6.1000000e-01\n",
      " -6.0000000e-01 -5.9000000e-01 -5.8000000e-01 -5.7000000e-01\n",
      " -5.6000000e-01 -5.5000000e-01 -5.4000000e-01 -5.3000000e-01\n",
      " -5.2000000e-01 -5.1000000e-01 -5.0000000e-01 -4.9000000e-01\n",
      " -4.8000000e-01 -4.7000000e-01 -4.6000000e-01 -4.5000000e-01\n",
      " -4.4000000e-01 -4.3000000e-01 -4.2000000e-01 -4.1000000e-01\n",
      " -4.0000000e-01 -3.9000000e-01 -3.8000000e-01 -3.7000000e-01\n",
      " -3.6000000e-01 -3.5000000e-01 -3.4000000e-01 -3.3000000e-01\n",
      " -3.2000000e-01 -3.1000000e-01 -3.0000000e-01 -2.9000000e-01\n",
      " -2.8000000e-01 -2.7000000e-01 -2.6000000e-01 -2.5000000e-01\n",
      " -2.4000000e-01 -2.3000000e-01 -2.2000000e-01 -2.1000000e-01\n",
      " -2.0000000e-01 -1.9000000e-01 -1.8000000e-01 -1.7000000e-01\n",
      " -1.6000000e-01 -1.5000000e-01 -1.4000000e-01 -1.3000000e-01\n",
      " -1.2000000e-01 -1.1000000e-01 -1.0000000e-01 -9.0000000e-02\n",
      " -8.0000000e-02 -7.0000000e-02 -6.0000000e-02 -5.0000000e-02\n",
      " -4.0000000e-02 -3.0000000e-02 -2.0000000e-02 -1.0000000e-02\n",
      " -1.0658141e-13  1.0000000e-02  2.0000000e-02  3.0000000e-02\n",
      "  4.0000000e-02  5.0000000e-02  6.0000000e-02  7.0000000e-02\n",
      "  8.0000000e-02  9.0000000e-02  1.0000000e-01  1.1000000e-01\n",
      "  1.2000000e-01  1.3000000e-01  1.4000000e-01  1.5000000e-01\n",
      "  1.6000000e-01  1.7000000e-01  1.8000000e-01  1.9000000e-01\n",
      "  2.0000000e-01  2.1000000e-01  2.2000000e-01  2.3000000e-01\n",
      "  2.4000000e-01  2.5000000e-01  2.6000000e-01  2.7000000e-01\n",
      "  2.8000000e-01  2.9000000e-01  3.0000000e-01  3.1000000e-01\n",
      "  3.2000000e-01  3.3000000e-01  3.4000000e-01  3.5000000e-01\n",
      "  3.6000000e-01  3.7000000e-01  3.8000000e-01  3.9000000e-01\n",
      "  4.0000000e-01  4.1000000e-01  4.2000000e-01  4.3000000e-01\n",
      "  4.4000000e-01  4.5000000e-01  4.6000000e-01  4.7000000e-01\n",
      "  4.8000000e-01  4.9000000e-01  5.0000000e-01  5.1000000e-01\n",
      "  5.2000000e-01  5.3000000e-01  5.4000000e-01  5.5000000e-01\n",
      "  5.6000000e-01  5.7000000e-01  5.8000000e-01  5.9000000e-01\n",
      "  6.0000000e-01  6.1000000e-01  6.2000000e-01  6.3000000e-01\n",
      "  6.4000000e-01  6.5000000e-01  6.6000000e-01  6.7000000e-01\n",
      "  6.8000000e-01  6.9000000e-01  7.0000000e-01  7.1000000e-01\n",
      "  7.2000000e-01  7.3000000e-01  7.4000000e-01  7.5000000e-01\n",
      "  7.6000000e-01  7.7000000e-01  7.8000000e-01  7.9000000e-01\n",
      "  8.0000000e-01  8.1000000e-01  8.2000000e-01  8.3000000e-01\n",
      "  8.4000000e-01  8.5000000e-01  8.6000000e-01  8.7000000e-01\n",
      "  8.8000000e-01  8.9000000e-01  9.0000000e-01  9.1000000e-01\n",
      "  9.2000000e-01  9.3000000e-01  9.4000000e-01  9.5000000e-01\n",
      "  9.6000000e-01  9.7000000e-01  9.8000000e-01  9.9000000e-01\n",
      "  1.0000000e+00  1.0100000e+00  1.0200000e+00  1.0300000e+00\n",
      "  1.0400000e+00  1.0500000e+00  1.0600000e+00  1.0700000e+00\n",
      "  1.0800000e+00  1.0900000e+00  1.1000000e+00  1.1100000e+00\n",
      "  1.1200000e+00  1.1300000e+00  1.1400000e+00  1.1500000e+00\n",
      "  1.1600000e+00  1.1700000e+00  1.1800000e+00  1.1900000e+00\n",
      "  1.2000000e+00  1.2100000e+00  1.2200000e+00  1.2300000e+00\n",
      "  1.2400000e+00  1.2500000e+00  1.2600000e+00  1.2700000e+00\n",
      "  1.2800000e+00  1.2900000e+00  1.3000000e+00  1.3100000e+00\n",
      "  1.3200000e+00  1.3300000e+00  1.3400000e+00  1.3500000e+00\n",
      "  1.3600000e+00  1.3700000e+00  1.3800000e+00  1.3900000e+00\n",
      "  1.4000000e+00  1.4100000e+00  1.4200000e+00  1.4300000e+00\n",
      "  1.4400000e+00  1.4500000e+00  1.4600000e+00  1.4700000e+00\n",
      "  1.4800000e+00  1.4900000e+00  1.5000000e+00  1.5100000e+00\n",
      "  1.5200000e+00  1.5300000e+00  1.5400000e+00  1.5500000e+00\n",
      "  1.5600000e+00  1.5700000e+00  1.5800000e+00  1.5900000e+00\n",
      "  1.6000000e+00  1.6100000e+00  1.6200000e+00  1.6300000e+00\n",
      "  1.6400000e+00  1.6500000e+00  1.6600000e+00  1.6700000e+00\n",
      "  1.6800000e+00  1.6900000e+00  1.7000000e+00  1.7100000e+00\n",
      "  1.7200000e+00  1.7300000e+00  1.7400000e+00  1.7500000e+00\n",
      "  1.7600000e+00  1.7700000e+00  1.7800000e+00  1.7900000e+00\n",
      "  1.8000000e+00  1.8100000e+00  1.8200000e+00  1.8300000e+00\n",
      "  1.8400000e+00  1.8500000e+00  1.8600000e+00  1.8700000e+00\n",
      "  1.8800000e+00  1.8900000e+00  1.9000000e+00  1.9100000e+00\n",
      "  1.9200000e+00  1.9300000e+00  1.9400000e+00  1.9500000e+00\n",
      "  1.9600000e+00  1.9700000e+00  1.9800000e+00  1.9900000e+00\n",
      "  2.0000000e+00  2.0100000e+00  2.0200000e+00  2.0300000e+00\n",
      "  2.0400000e+00  2.0500000e+00  2.0600000e+00  2.0700000e+00\n",
      "  2.0800000e+00  2.0900000e+00  2.1000000e+00  2.1100000e+00\n",
      "  2.1200000e+00  2.1300000e+00  2.1400000e+00  2.1500000e+00\n",
      "  2.1600000e+00  2.1700000e+00  2.1800000e+00  2.1900000e+00\n",
      "  2.2000000e+00  2.2100000e+00  2.2200000e+00  2.2300000e+00\n",
      "  2.2400000e+00  2.2500000e+00  2.2600000e+00  2.2700000e+00\n",
      "  2.2800000e+00  2.2900000e+00  2.3000000e+00  2.3100000e+00\n",
      "  2.3200000e+00  2.3300000e+00  2.3400000e+00  2.3500000e+00\n",
      "  2.3600000e+00  2.3700000e+00  2.3800000e+00  2.3900000e+00\n",
      "  2.4000000e+00  2.4100000e+00  2.4200000e+00  2.4300000e+00\n",
      "  2.4400000e+00  2.4500000e+00  2.4600000e+00  2.4700000e+00\n",
      "  2.4800000e+00  2.4900000e+00  2.5000000e+00  2.5100000e+00\n",
      "  2.5200000e+00  2.5300000e+00  2.5400000e+00  2.5500000e+00\n",
      "  2.5600000e+00  2.5700000e+00  2.5800000e+00  2.5900000e+00\n",
      "  2.6000000e+00  2.6100000e+00  2.6200000e+00  2.6300000e+00\n",
      "  2.6400000e+00  2.6500000e+00  2.6600000e+00  2.6700000e+00\n",
      "  2.6800000e+00  2.6900000e+00  2.7000000e+00  2.7100000e+00\n",
      "  2.7200000e+00  2.7300000e+00  2.7400000e+00  2.7500000e+00\n",
      "  2.7600000e+00  2.7700000e+00  2.7800000e+00  2.7900000e+00\n",
      "  2.8000000e+00  2.8100000e+00  2.8200000e+00  2.8300000e+00\n",
      "  2.8400000e+00  2.8500000e+00  2.8600000e+00  2.8700000e+00\n",
      "  2.8800000e+00  2.8900000e+00  2.9000000e+00  2.9100000e+00\n",
      "  2.9200000e+00  2.9300000e+00  2.9400000e+00  2.9500000e+00\n",
      "  2.9600000e+00  2.9700000e+00  2.9800000e+00  2.9900000e+00\n",
      "  3.0000000e+00  3.0100000e+00  3.0200000e+00  3.0300000e+00\n",
      "  3.0400000e+00  3.0500000e+00  3.0600000e+00  3.0700000e+00\n",
      "  3.0800000e+00  3.0900000e+00  3.1000000e+00  3.1100000e+00\n",
      "  3.1200000e+00  3.1300000e+00  3.1400000e+00  3.1500000e+00\n",
      "  3.1600000e+00  3.1700000e+00  3.1800000e+00  3.1900000e+00\n",
      "  3.2000000e+00  3.2100000e+00  3.2200000e+00  3.2300000e+00\n",
      "  3.2400000e+00  3.2500000e+00  3.2600000e+00  3.2700000e+00\n",
      "  3.2800000e+00  3.2900000e+00  3.3000000e+00  3.3100000e+00\n",
      "  3.3200000e+00  3.3300000e+00  3.3400000e+00  3.3500000e+00\n",
      "  3.3600000e+00  3.3700000e+00  3.3800000e+00  3.3900000e+00\n",
      "  3.4000000e+00  3.4100000e+00  3.4200000e+00  3.4300000e+00\n",
      "  3.4400000e+00  3.4500000e+00  3.4600000e+00  3.4700000e+00\n",
      "  3.4800000e+00  3.4900000e+00  3.5000000e+00  3.5100000e+00\n",
      "  3.5200000e+00  3.5300000e+00  3.5400000e+00  3.5500000e+00\n",
      "  3.5600000e+00  3.5700000e+00  3.5800000e+00  3.5900000e+00\n",
      "  3.6000000e+00  3.6100000e+00  3.6200000e+00  3.6300000e+00\n",
      "  3.6400000e+00  3.6500000e+00  3.6600000e+00  3.6700000e+00\n",
      "  3.6800000e+00  3.6900000e+00  3.7000000e+00  3.7100000e+00\n",
      "  3.7200000e+00  3.7300000e+00  3.7400000e+00  3.7500000e+00\n",
      "  3.7600000e+00  3.7700000e+00  3.7800000e+00  3.7900000e+00\n",
      "  3.8000000e+00  3.8100000e+00  3.8200000e+00  3.8300000e+00\n",
      "  3.8400000e+00  3.8500000e+00  3.8600000e+00  3.8700000e+00\n",
      "  3.8800000e+00  3.8900000e+00  3.9000000e+00  3.9100000e+00\n",
      "  3.9200000e+00  3.9300000e+00  3.9400000e+00  3.9500000e+00\n",
      "  3.9600000e+00  3.9700000e+00  3.9800000e+00  3.9900000e+00\n",
      "  4.0000000e+00  4.0100000e+00  4.0200000e+00  4.0300000e+00\n",
      "  4.0400000e+00  4.0500000e+00  4.0600000e+00  4.0700000e+00\n",
      "  4.0800000e+00  4.0900000e+00  4.1000000e+00  4.1100000e+00\n",
      "  4.1200000e+00  4.1300000e+00  4.1400000e+00  4.1500000e+00\n",
      "  4.1600000e+00  4.1700000e+00  4.1800000e+00  4.1900000e+00\n",
      "  4.2000000e+00  4.2100000e+00  4.2200000e+00  4.2300000e+00\n",
      "  4.2400000e+00  4.2500000e+00  4.2600000e+00  4.2700000e+00\n",
      "  4.2800000e+00  4.2900000e+00  4.3000000e+00  4.3100000e+00\n",
      "  4.3200000e+00  4.3300000e+00  4.3400000e+00  4.3500000e+00\n",
      "  4.3600000e+00  4.3700000e+00  4.3800000e+00  4.3900000e+00\n",
      "  4.4000000e+00  4.4100000e+00  4.4200000e+00  4.4300000e+00\n",
      "  4.4400000e+00  4.4500000e+00  4.4600000e+00  4.4700000e+00\n",
      "  4.4800000e+00  4.4900000e+00  4.5000000e+00  4.5100000e+00\n",
      "  4.5200000e+00  4.5300000e+00  4.5400000e+00  4.5500000e+00\n",
      "  4.5600000e+00  4.5700000e+00  4.5800000e+00  4.5900000e+00\n",
      "  4.6000000e+00  4.6100000e+00  4.6200000e+00  4.6300000e+00\n",
      "  4.6400000e+00  4.6500000e+00  4.6600000e+00  4.6700000e+00\n",
      "  4.6800000e+00  4.6900000e+00  4.7000000e+00  4.7100000e+00\n",
      "  4.7200000e+00  4.7300000e+00  4.7400000e+00  4.7500000e+00\n",
      "  4.7600000e+00  4.7700000e+00  4.7800000e+00  4.7900000e+00\n",
      "  4.8000000e+00  4.8100000e+00  4.8200000e+00  4.8300000e+00\n",
      "  4.8400000e+00  4.8500000e+00  4.8600000e+00  4.8700000e+00\n",
      "  4.8800000e+00  4.8900000e+00  4.9000000e+00  4.9100000e+00\n",
      "  4.9200000e+00  4.9300000e+00  4.9400000e+00  4.9500000e+00\n",
      "  4.9600000e+00  4.9700000e+00  4.9800000e+00  4.9900000e+00]\n",
      "(1000, 1000)\n"
     ]
    },
    {
     "data": {
      "text/plain": [
       "Text(0.5, 1.0, 'Img plot of a grid values')"
      ]
     },
     "execution_count": 26,
     "metadata": {},
     "output_type": "execute_result"
    },
    {
     "data": {
      "image/png": "[encoded data removed]",
      "text/plain": [
       "<Figure size 640x480 with 2 Axes>"
      ]
     },
     "metadata": {},
     "output_type": "display_data"
    }
   ],
   "source": [
    "#Data processing with Arrays\n",
    "points=np.arange(-5,5,0.01)\n",
    "print(points)\n",
    "xs, ys = np.meshgrid(points,points)\n",
    "import matplotlib.pyplot as plt\n",
    "z = np.sqrt(xs**2 + ys ** 2)\n",
    "print(z.shape)\n",
    "plt.imshow(z,cmap=plt.cm.jet)\n",
    "plt.colorbar()\n",
    "plt.title(\"Img plot of a grid values\")"
   ]
  },
  {
   "cell_type": "code",
   "execution_count": 29,
   "id": "144a2877-4111-4546-a7ff-f2b4a019e7de",
   "metadata": {},
   "outputs": [
    {
     "name": "stdout",
     "output_type": "stream",
     "text": [
      "Cumulative Sum: [ 1  3  6 10 15]\n",
      "Cumulative Product: [  1   2   6  24 120]\n"
     ]
    }
   ],
   "source": [
    "arr = np.array([1, 2, 3, 4, 5])\n",
    "cumulative_sum=np.cumsum(arr)\n",
    "print(\"Cumulative Sum:\",cumulative_sum)\n",
    "cumulative_product=np.cumprod(arr)\n",
    "print(\"Cumulative Product:\",cumulative_product)"
   ]
  },
  {
   "cell_type": "code",
   "execution_count": 31,
   "id": "4524ec74-19c1-464c-842e-b74d5a216839",
   "metadata": {},
   "outputs": [
    {
     "name": "stdout",
     "output_type": "stream",
     "text": [
      "For loop time: 0.00028252601623535156\n"
     ]
    }
   ],
   "source": [
    "#for loop\n",
    "import time\n",
    "start=time.time()\n",
    "array1=[1,2,3,4,5]\n",
    "for i in range(len(array1)):\n",
    "    array1[i]+=10\n",
    "end=time.time()\n",
    "print(\"For loop time:\", end-start)"
   ]
  },
  {
   "cell_type": "code",
   "execution_count": 34,
   "id": "00dcf58c-7f97-4583-a913-70ee09f087b8",
   "metadata": {},
   "outputs": [
    {
     "name": "stdout",
     "output_type": "stream",
     "text": [
      "Vectorization time: 0.00028395652770996094\n"
     ]
    }
   ],
   "source": [
    "#Vectorization\n",
    "import time\n",
    "start=time.time()\n",
    "array1=np.array([1,2,3,4,5])\n",
    "result= array1 + 10\n",
    "end=time.time()\n",
    "print(\"Vectorization time:\", end-start)\n"
   ]
  },
  {
   "cell_type": "code",
   "execution_count": 35,
   "id": "f17afd4e-c715-4ab8-8785-68d8355364dd",
   "metadata": {},
   "outputs": [
    {
     "data": {
      "text/plain": [
       "array([[ 0,  1,  2,  3,  4],\n",
       "       [ 5,  6,  7,  8,  9],\n",
       "       [10, 11, 12, 13, 14]])"
      ]
     },
     "execution_count": 35,
     "metadata": {},
     "output_type": "execute_result"
    }
   ],
   "source": [
    "#Transpose and Swap\n",
    "arr = np.arange(15).reshape((3,5))\n",
    "arr"
   ]
  },
  {
   "cell_type": "code",
   "execution_count": 36,
   "id": "28582d27-d01f-4c8f-b9c0-150ed8ebf5a7",
   "metadata": {},
   "outputs": [
    {
     "data": {
      "text/plain": [
       "array([[ 0,  5, 10],\n",
       "       [ 1,  6, 11],\n",
       "       [ 2,  7, 12],\n",
       "       [ 3,  8, 13],\n",
       "       [ 4,  9, 14]])"
      ]
     },
     "execution_count": 36,
     "metadata": {},
     "output_type": "execute_result"
    }
   ],
   "source": [
    "arr.T"
   ]
  },
  {
   "cell_type": "code",
   "execution_count": 37,
   "id": "dc04bbef-3dac-48d3-a3e4-041dce7c884b",
   "metadata": {},
   "outputs": [
    {
     "data": {
      "text/plain": [
       "array([[ 5.66150144,  1.36788905,  0.63051477],\n",
       "       [ 1.36788905,  2.26042958, -1.01733957],\n",
       "       [ 0.63051477, -1.01733957,  7.34394593]])"
      ]
     },
     "execution_count": 37,
     "metadata": {},
     "output_type": "execute_result"
    }
   ],
   "source": [
    "arr = np.random.randn(6,3)\n",
    "arr\n",
    "np.dot(arr.T,arr)"
   ]
  },
  {
   "cell_type": "code",
   "execution_count": 3,
   "id": "16be4779-2653-424c-91e5-df93dd17fec0",
   "metadata": {},
   "outputs": [
    {
     "name": "stdout",
     "output_type": "stream",
     "text": [
      "r1     0\n",
      "r2     4\n",
      "r3     8\n",
      "r4    12\n",
      "Name: c1, dtype: int64\n",
      "    c1  c3\n",
      "r1   0   2\n",
      "r2   4   6\n",
      "r3   8  10\n",
      "r4  12  14\n",
      "    c1  c2  c3  c4\n",
      "r1   0   1   2   3\n",
      "r2   4   5   6   7\n",
      "    c1  c2  c3  c4\n",
      "r2   4   5   6   7\n",
      "r3   8   9  10  11\n",
      "r4  12  13  14  15\n"
     ]
    }
   ],
   "source": [
    "import pandas as pd\n",
    "import numpy as np\n",
    "data = pd.DataFrame(np.arange(16).reshape((4,4)),index=['r1','r2','r3','r4'],columns=['c1','c2','c3','c4'])\n",
    "print(data['c1'])\n",
    "print(data[['c1','c3']])\n",
    "print(data[:2])\n",
    "print(data[data['c3']>5])\n"
   ]
  },
  {
   "cell_type": "code",
   "execution_count": 6,
   "id": "7395108d-e9dc-4eb0-9eba-c3bb9c1f5c2e",
   "metadata": {},
   "outputs": [
    {
     "name": "stdout",
     "output_type": "stream",
     "text": [
      "       c1     c2     c3     c4\n",
      "r1   True   True   True   True\n",
      "r2   True  False  False  False\n",
      "r3  False  False  False  False\n",
      "r4  False  False  False  False\n",
      "    c1  c2  c3  c4\n",
      "r1   0   0   0   0\n",
      "r2   0   5   6   7\n",
      "r3   8   9  10  11\n",
      "r4  12  13  14  15\n"
     ]
    }
   ],
   "source": [
    "import pandas as pd\n",
    "import numpy as np\n",
    "data = pd.DataFrame(np.arange(16).reshape((4,4)),index=['r1','r2','r3','r4'],columns=['c1','c2','c3','c4'])\n",
    "print(data<5)\n",
    "data[data<5]=0\n",
    "print(data)"
   ]
  },
  {
   "cell_type": "code",
   "execution_count": 8,
   "id": "2ac6a0bc-0421-4d8f-bd20-b7ae01326722",
   "metadata": {},
   "outputs": [
    {
     "name": "stdout",
     "output_type": "stream",
     "text": [
      "a    14.6\n",
      "c    -5.0\n",
      "d     6.8\n",
      "e     3.0\n",
      "dtype: float64\n",
      "a    5.2\n",
      "c    1.1\n",
      "d    NaN\n",
      "e    0.0\n",
      "f    NaN\n",
      "g    NaN\n",
      "dtype: float64\n"
     ]
    }
   ],
   "source": [
    "import pandas as pd\n",
    "s1 = pd.Series([7.3, -2.5, 3.4, 1.5], index=['a', 'c', 'd', 'e'])\n",
    "s2 = pd.Series([-2.1, 3.6, -1.5, 4.3, 3.1], index=['a', 'c', 'e', 'f', 'g'])\n",
    "\n",
    "s3 = s1 + s1\n",
    "print(s3)\n",
    "\n",
    "s3 = s1 + s2\n",
    "print(s3)"
   ]
  },
  {
   "cell_type": "code",
   "execution_count": 10,
   "id": "4122b20a-f18e-4904-b5fa-7a27a96cbb7a",
   "metadata": {},
   "outputs": [
    {
     "name": "stdout",
     "output_type": "stream",
     "text": [
      "   b  c  d\n",
      "1  0  1  2\n",
      "2  3  4  5\n",
      "3  6  7  8\n",
      "   b   d   e\n",
      "1  0   1   2\n",
      "2  3   4   5\n",
      "3  6   7   8\n",
      "4  9  10  11\n",
      "    b   c   d\n",
      "1   0   2   4\n",
      "2   6   8  10\n",
      "3  12  14  16\n",
      "      b   c     d   e\n",
      "1   0.0 NaN   3.0 NaN\n",
      "2   6.0 NaN   9.0 NaN\n",
      "3  12.0 NaN  15.0 NaN\n",
      "4   NaN NaN   NaN NaN\n"
     ]
    }
   ],
   "source": [
    "#In case of both rows and columns\n",
    "import pandas as pd\n",
    "df1= pd.DataFrame(np.arange(9).reshape((3,3)), columns=list('bcd'), index=['1','2','3'])\n",
    "df2= pd.DataFrame(np.arange(12).reshape((4,3)), columns=list('bde'), index=['1','2','3','4'])\n",
    "print(df1)\n",
    "print(df2)\n",
    "df=df1+df1\n",
    "print(df)\n",
    "df=df1+df2\n",
    "print(df)\n"
   ]
  },
  {
   "cell_type": "code",
   "execution_count": 12,
   "id": "bde375b2-755f-4f4d-98dd-800a3d99e78b",
   "metadata": {},
   "outputs": [
    {
     "name": "stdout",
     "output_type": "stream",
     "text": [
      "      a     b     c     d     e\n",
      "1   0.0   2.0   4.0   6.0   4.0\n",
      "2   9.0  11.0  13.0  15.0   9.0\n",
      "3  18.0  20.0  22.0  24.0  14.0\n",
      "4  15.0  16.0  17.0  18.0  19.0\n",
      "      a     b     c     d     e\n",
      "1   0.0   0.0   0.0   0.0  -4.0\n",
      "2  -1.0  -1.0  -1.0  -1.0  -9.0\n",
      "3  -2.0  -2.0  -2.0  -2.0 -14.0\n",
      "4 -15.0 -16.0 -17.0 -18.0 -19.0\n",
      "      a     b      c      d    e\n",
      "1   0.0   1.0    4.0    9.0  0.0\n",
      "2  20.0  30.0   42.0   56.0  0.0\n",
      "3  80.0  99.0  120.0  143.0  0.0\n",
      "4   0.0   0.0    0.0    0.0  0.0\n",
      "     a         b         c         d    e\n",
      "1  NaN  1.000000  1.000000  1.000000  0.0\n",
      "2  0.8  0.833333  0.857143  0.875000  0.0\n",
      "3  0.8  0.818182  0.833333  0.846154  0.0\n",
      "4  0.0  0.000000  0.000000  0.000000  0.0\n"
     ]
    }
   ],
   "source": [
    "#Arithmetic Methods with Fill Values\n",
    "import pandas as pd\n",
    "df1= pd.DataFrame(np.arange(12).reshape((3,4)), columns=list('abcd'), index=['1','2','3'])\n",
    "df2= pd.DataFrame(np.arange(20).reshape((4,5)), columns=list('abcde'), index=['1','2','3','4'])\n",
    "df=df1.add(df2,fill_value=0)\n",
    "print(df)\n",
    "df=df1.sub(df2,fill_value=0)\n",
    "print(df)\n",
    "df=df1.mul(df2,fill_value=0)\n",
    "print(df)\n",
    "df=df1.div(df2,fill_value=0)\n",
    "print(df)\n"
   ]
  },
  {
   "cell_type": "code",
   "execution_count": 13,
   "id": "eb169515-a12c-48e9-b97a-c3411b8462e6",
   "metadata": {},
   "outputs": [
    {
     "name": "stdout",
     "output_type": "stream",
     "text": [
      "     a         b         c         d    e\n",
      "1  NaN  1.000000  1.000000  1.000000  0.0\n",
      "2  0.8  0.833333  0.857143  0.875000  0.0\n",
      "3  0.8  0.818182  0.833333  0.846154  0.0\n",
      "4  0.0  0.000000  0.000000  0.000000  0.0\n",
      "0    2\n",
      "1    4\n",
      "2    5\n",
      "3    7\n",
      "dtype: int64\n",
      "    a   b   c   d   e   0   1   2   3\n",
      "1 NaN NaN NaN NaN NaN NaN NaN NaN NaN\n",
      "2 NaN NaN NaN NaN NaN NaN NaN NaN NaN\n",
      "3 NaN NaN NaN NaN NaN NaN NaN NaN NaN\n",
      "4 NaN NaN NaN NaN NaN NaN NaN NaN NaN\n"
     ]
    }
   ],
   "source": [
    "#Operations between DataFrame and Series\n",
    "import pandas as pd\n",
    "import numpy as np\n",
    "df1= pd.DataFrame(np.arange(12).reshape((3,4)))\n",
    "s=pd.Series([2,4,5,7])\n",
    "df1=df+s\n",
    "print(df)\n",
    "print(s)\n",
    "print(df1)"
   ]
  },
  {
   "cell_type": "code",
   "execution_count": 14,
   "id": "82686f05-5014-46c2-a898-3c2c7752fdd9",
   "metadata": {},
   "outputs": [
    {
     "name": "stdout",
     "output_type": "stream",
     "text": [
      "           b         d         e\n",
      "r1 -1.035097  0.178847 -0.164769\n",
      "r2 -0.695849 -0.417129 -0.273997\n",
      "r3 -0.956376 -1.483021  0.396313\n",
      "r4  0.142055  1.025678  0.715134\n",
      "           b         d         e\n",
      "r1  1.035097  0.178847  0.164769\n",
      "r2  0.695849  0.417129  0.273997\n",
      "r3  0.956376  1.483021  0.396313\n",
      "r4  0.142055  1.025678  0.715134\n"
     ]
    }
   ],
   "source": [
    "import pandas as pd\n",
    "import numpy as np\n",
    "frame=pd.DataFrame(np.random.randn(4,3),columns=list('bde'),index=['r1','r2','r3','r4'])\n",
    "print(frame)\n",
    "frame=np.abs(frame)\n",
    "print(frame)"
   ]
  },
  {
   "cell_type": "code",
   "execution_count": 17,
   "id": "9f3c76a0-069d-4b11-b904-f7ebe5196753",
   "metadata": {},
   "outputs": [
    {
     "name": "stdout",
     "output_type": "stream",
     "text": [
      "           b         d         e\n",
      "r1 -0.322767  1.444365 -0.709879\n",
      "r2 -1.064947  0.018694 -0.132117\n",
      "r3  0.182735  0.241746  0.726324\n",
      "r4 -0.667085 -1.472808  1.062560\n",
      "           b         d         e\n",
      "r1  0.322767  1.444365  0.709879\n",
      "r2  1.064947  0.018694  0.132117\n",
      "r3  0.182735  0.241746  0.726324\n",
      "r4  0.667085  1.472808  1.062560\n",
      "b    0.882212\n",
      "d    1.454114\n",
      "e    0.930443\n",
      "dtype: float64\n"
     ]
    }
   ],
   "source": [
    "import pandas as pd\n",
    "import numpy as np\n",
    "frame=pd.DataFrame(np.random.randn(4,3),columns=list('bde'),index=['r1','r2','r3','r4'])\n",
    "print(frame)\n",
    "frame=np.abs(frame)\n",
    "print(frame)\n",
    "f=lambda x: x.max() - x.min()\n",
    "fr= frame.apply(f,axis=0)\n",
    "print(fr)"
   ]
  },
  {
   "cell_type": "code",
   "execution_count": 18,
   "id": "7242bff2-16f5-4e38-ba79-0a549a16a4c9",
   "metadata": {},
   "outputs": [
    {
     "name": "stdout",
     "output_type": "stream",
     "text": [
      "           b         d         e\n",
      "r1 -1.180706  0.108316 -1.061615\n",
      "r2 -1.314094  0.164022  1.243979\n",
      "r3 -0.836170 -0.039416  1.980624\n",
      "r4  0.465396 -0.797083  0.839389\n",
      "           b         d         e\n",
      "r1  1.180706  0.108316  1.061615\n",
      "r2  1.314094  0.164022  1.243979\n",
      "r3  0.836170  0.039416  1.980624\n",
      "r4  0.465396  0.797083  0.839389\n",
      "            b         d         e\n",
      "min  0.465396  0.039416  0.839389\n",
      "max  1.314094  0.797083  1.980624\n"
     ]
    }
   ],
   "source": [
    "import pandas as pd\n",
    "import numpy as np\n",
    "def f(x):\n",
    "    return pd.Series([x.min(), x.max()], index=['min','max'])\n",
    "frame=pd.DataFrame(np.random.randn(4,3),columns=list('bde'),index=['r1','r2','r3','r4'])\n",
    "print(frame)\n",
    "frame=np.abs(frame)\n",
    "print(frame)\n",
    "fr=frame.apply(f)\n",
    "print(fr)\n"
   ]
  },
  {
   "cell_type": "code",
   "execution_count": 3,
   "id": "608cb9d1-e892-4540-af73-a136e19e587f",
   "metadata": {},
   "outputs": [
    {
     "name": "stdout",
     "output_type": "stream",
     "text": [
      "           b         d         e\n",
      "r1  0.286371  0.872716  0.019606\n",
      "r2  0.708839  0.543779  0.932501\n",
      "r3  0.656624  0.414445  0.488191\n",
      "r4  0.734941  0.109107  0.090656\n",
      "            b         d         e\n",
      "min  0.286371  0.109107  0.019606\n",
      "max  0.734941  0.872716  0.932501\n"
     ]
    }
   ],
   "source": [
    "import pandas as pd\n",
    "import numpy as np\n",
    "def f(x):\n",
    "    return pd.Series([x.min(),x.max()], index=['min','max'])\n",
    "frame= pd.DataFrame(np.random.rand(4,3),\n",
    "columns= list('bde'),\n",
    "index=['r1','r2','r3','r4'])\n",
    "print(frame)\n",
    "frame=np.abs(frame)\n",
    "fr=frame.apply(f)\n",
    "print(fr)\n"
   ]
  },
  {
   "cell_type": "code",
   "execution_count": 4,
   "id": "35d1baa7-0825-48f7-9837-4ee254382de9",
   "metadata": {},
   "outputs": [
    {
     "name": "stdout",
     "output_type": "stream",
     "text": [
      "a    1\n",
      "b    2\n",
      "c    3\n",
      "d    0\n",
      "dtype: int64\n"
     ]
    }
   ],
   "source": [
    "#Sorting and RAnking\n",
    "import pandas as pd\n",
    "import numpy as np\n",
    "obj = pd.Series(range(4), index=['d','a','b','c'])\n",
    "obj1=obj.sort_index()\n",
    "print(obj1)"
   ]
  },
  {
   "cell_type": "code",
   "execution_count": 5,
   "id": "f8b3ec27-4da7-444a-a22f-c255220b61bf",
   "metadata": {},
   "outputs": [
    {
     "name": "stdout",
     "output_type": "stream",
     "text": [
      "       d  a  b  c\n",
      "one    4  5  6  7\n",
      "three  0  1  2  3\n",
      "       a  b  c  d\n",
      "three  1  2  3  0\n",
      "one    5  6  7  4\n",
      "       d  c  b  a\n",
      "three  0  3  2  1\n",
      "one    4  7  6  5\n"
     ]
    }
   ],
   "source": [
    "import pandas as pd\n",
    "import numpy as np\n",
    "frame= pd.DataFrame(np.arange(8).reshape((2,4)),index=['three','one'],columns=['d','a','b','c'])\n",
    "fr=frame.sort_index(axis=0)\n",
    "print(fr)\n",
    "fr=frame.sort_index(axis=1)\n",
    "print(fr)\n",
    "fr=frame.sort_index(axis=1, ascending=False)\n",
    "print(fr)"
   ]
  },
  {
   "cell_type": "code",
   "execution_count": 6,
   "id": "28abc4b4-e960-4b42-9add-2bae6c4928b6",
   "metadata": {},
   "outputs": [
    {
     "name": "stdout",
     "output_type": "stream",
     "text": [
      "4   -3.0\n",
      "5    2.0\n",
      "0    4.0\n",
      "2    7.0\n",
      "1    NaN\n",
      "3    NaN\n",
      "dtype: float64\n"
     ]
    }
   ],
   "source": [
    "import pandas as pd\n",
    "import numpy as np\n",
    "obj= pd.Series([4,np.nan,7,np.nan,-3,2])\n",
    "obj1= obj.sort_values()\n",
    "print(obj1)"
   ]
  },
  {
   "cell_type": "code",
   "execution_count": 7,
   "id": "6deeb1d1-8cbc-4fb4-81d8-dcadf7d8e1c4",
   "metadata": {},
   "outputs": [
    {
     "name": "stdout",
     "output_type": "stream",
     "text": [
      "   b  a\n",
      "0  4  0\n",
      "1  7  1\n",
      "2 -3  0\n",
      "3  2  1\n",
      "   b  a\n",
      "2 -3  0\n",
      "3  2  1\n",
      "0  4  0\n",
      "1  7  1\n",
      "   b  a\n",
      "2 -3  0\n",
      "0  4  0\n",
      "3  2  1\n",
      "1  7  1\n",
      "   b  a\n",
      "1  7  1\n",
      "3  2  1\n",
      "0  4  0\n",
      "2 -3  0\n"
     ]
    }
   ],
   "source": [
    "import pandas as pd\n",
    "frame= pd.DataFrame({'b':[4,7,-3,2], 'a': [0,1,0,1]})\n",
    "print(frame)\n",
    "fr=frame.sort_values(by='b')\n",
    "print(fr)\n",
    "fr=frame.sort_values(by=['a','b'])\n",
    "print(fr)\n",
    "fr=frame.sort_values(by=['a','b'],ascending=False)\n",
    "print(fr)\n"
   ]
  },
  {
   "cell_type": "code",
   "execution_count": 8,
   "id": "a079fc1c-fb0a-4535-8913-9ceef1a3f2b3",
   "metadata": {},
   "outputs": [
    {
     "name": "stdout",
     "output_type": "stream",
     "text": [
      "0    6.5\n",
      "1    1.0\n",
      "2    6.5\n",
      "3    4.5\n",
      "4    3.0\n",
      "5    2.0\n",
      "6    4.5\n",
      "dtype: float64\n",
      "0    6.0\n",
      "1    1.0\n",
      "2    7.0\n",
      "3    4.0\n",
      "4    3.0\n",
      "5    2.0\n",
      "6    5.0\n",
      "dtype: float64\n",
      "0    1.0\n",
      "1    7.0\n",
      "2    1.0\n",
      "3    3.0\n",
      "4    5.0\n",
      "5    6.0\n",
      "6    3.0\n",
      "dtype: float64\n"
     ]
    }
   ],
   "source": [
    "#Ranking Method\n",
    "import pandas as pd\n",
    "import numpy as np\n",
    "obj=pd.Series([7,-5,7,4,2,0,4])\n",
    "obj1=obj.rank()\n",
    "print(obj1)\n",
    "obj1= obj.rank(method='first')\n",
    "print(obj1)\n",
    "obj1= obj.rank(ascending=False, method='min')\n",
    "print(obj1)"
   ]
  }
 ],
 "metadata": {
  "kernelspec": {
   "display_name": "Python 3 (ipykernel)",
   "language": "python",
   "name": "python3"
  },
  "language_info": {
   "codemirror_mode": {
    "name": "ipython",
    "version": 3
   },
   "file_extension": ".py",
   "mimetype": "text/x-python",
   "name": "python",
   "nbconvert_exporter": "python",
   "pygments_lexer": "ipython3",
   "version": "3.13.2"
  }
 },
 "nbformat": 4,
 "nbformat_minor": 5
}
