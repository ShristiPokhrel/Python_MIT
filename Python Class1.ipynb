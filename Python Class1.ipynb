{
 "cells": [
  {
   "cell_type": "code",
   "execution_count": null,
   "id": "f30b9324-695e-4fb4-b386-b7a5a12f5d22",
   "metadata": {},
   "outputs": [],
   "source": [
    "2+1"
   ]
  },
  {
   "cell_type": "code",
   "execution_count": 1,
   "id": "2454b7f7-ce59-40f6-8a43-9e6501664ec5",
   "metadata": {},
   "outputs": [
    {
     "data": {
      "text/plain": [
       "3"
      ]
     },
     "execution_count": 1,
     "metadata": {},
     "output_type": "execute_result"
    }
   ],
   "source": [
    "2+1"
   ]
  },
  {
   "cell_type": "code",
   "execution_count": 2,
   "id": "ccbff4e6-bfa5-486d-b5d6-d4f7e2588f78",
   "metadata": {},
   "outputs": [
    {
     "data": {
      "text/plain": [
       "1"
      ]
     },
     "execution_count": 2,
     "metadata": {},
     "output_type": "execute_result"
    }
   ],
   "source": [
    "2-1"
   ]
  },
  {
   "cell_type": "code",
   "execution_count": 3,
   "id": "e138dd66-9e21-40aa-ac3e-66e11feda6bd",
   "metadata": {},
   "outputs": [
    {
     "data": {
      "text/plain": [
       "1.75"
      ]
     },
     "execution_count": 3,
     "metadata": {},
     "output_type": "execute_result"
    }
   ],
   "source": [
    "7/4"
   ]
  },
  {
   "cell_type": "code",
   "execution_count": 4,
   "id": "1cb7589f-7a52-44b8-ba0f-c62fb5a72e55",
   "metadata": {},
   "outputs": [
    {
     "data": {
      "text/plain": [
       "3"
      ]
     },
     "execution_count": 4,
     "metadata": {},
     "output_type": "execute_result"
    }
   ],
   "source": [
    "7%4"
   ]
  },
  {
   "cell_type": "code",
   "execution_count": 5,
   "id": "46c8b3d5-e7f7-4ab4-8d24-38b59e21129b",
   "metadata": {},
   "outputs": [
    {
     "data": {
      "text/plain": [
       "16"
      ]
     },
     "execution_count": 5,
     "metadata": {},
     "output_type": "execute_result"
    }
   ],
   "source": [
    "2**4"
   ]
  },
  {
   "cell_type": "code",
   "execution_count": 6,
   "id": "3cef6e5a-3e85-421c-a592-2611941d6ff0",
   "metadata": {},
   "outputs": [
    {
     "data": {
      "text/plain": [
       "106"
      ]
     },
     "execution_count": 6,
     "metadata": {},
     "output_type": "execute_result"
    }
   ],
   "source": [
    "3+10*10+3\n"
   ]
  },
  {
   "cell_type": "code",
   "execution_count": 8,
   "id": "919eae1d-b47e-40fd-a433-7906e7ead867",
   "metadata": {},
   "outputs": [],
   "source": [
    "a=20"
   ]
  },
  {
   "cell_type": "code",
   "execution_count": 8,
   "id": "08065f9c-258c-42e8-b7ef-5b45ddddbecf",
   "metadata": {},
   "outputs": [],
   "source": [
    "a=40"
   ]
  },
  {
   "cell_type": "code",
   "execution_count": 9,
   "id": "48eea8fb-0eca-4325-83de-a1335a8e369e",
   "metadata": {},
   "outputs": [
    {
     "name": "stdout",
     "output_type": "stream",
     "text": [
      "140713449883144\n"
     ]
    }
   ],
   "source": [
    "print(id(a))\n"
   ]
  },
  {
   "cell_type": "code",
   "execution_count": 10,
   "id": "ac84603d-52cd-4a77-9c5c-dfbf1bf0c019",
   "metadata": {},
   "outputs": [
    {
     "ename": "SyntaxError",
     "evalue": "Missing parentheses in call to 'print'. Did you mean print(...)? (2947294964.py, line 1)",
     "output_type": "error",
     "traceback": [
      "\u001b[1;36m  Cell \u001b[1;32mIn[10], line 1\u001b[1;36m\u001b[0m\n\u001b[1;33m    print a\u001b[0m\n\u001b[1;37m    ^\u001b[0m\n\u001b[1;31mSyntaxError\u001b[0m\u001b[1;31m:\u001b[0m Missing parentheses in call to 'print'. Did you mean print(...)?\n"
     ]
    }
   ],
   "source": [
    "print a"
   ]
  },
  {
   "cell_type": "raw",
   "id": "2918f358-30c6-4551-9d53-6c2531372c1d",
   "metadata": {},
   "source": [
    "print(a)\n",
    "\n"
   ]
  },
  {
   "cell_type": "code",
   "execution_count": 11,
   "id": "1fe73961-125d-4230-ab37-3d307fb8a0e5",
   "metadata": {},
   "outputs": [
    {
     "data": {
      "text/plain": [
       "int"
      ]
     },
     "execution_count": 11,
     "metadata": {},
     "output_type": "execute_result"
    }
   ],
   "source": [
    "type(a)"
   ]
  },
  {
   "cell_type": "code",
   "execution_count": 12,
   "id": "f80573a4-ebe0-4d63-9172-00be544130c7",
   "metadata": {},
   "outputs": [],
   "source": [
    "a=1.2"
   ]
  },
  {
   "cell_type": "code",
   "execution_count": 13,
   "id": "1b25dedc-9fdf-48c9-9cda-4853feb59e6d",
   "metadata": {},
   "outputs": [
    {
     "data": {
      "text/plain": [
       "float"
      ]
     },
     "execution_count": 13,
     "metadata": {},
     "output_type": "execute_result"
    }
   ],
   "source": [
    "type(a)"
   ]
  },
  {
   "cell_type": "code",
   "execution_count": 14,
   "id": "04084660-d91c-4870-b883-e48964830627",
   "metadata": {},
   "outputs": [],
   "source": [
    "myWord = \"Hello Mit\""
   ]
  },
  {
   "cell_type": "code",
   "execution_count": 15,
   "id": "a4280c6b-d65c-41fe-b64a-3d6b5cda46b6",
   "metadata": {},
   "outputs": [
    {
     "data": {
      "text/plain": [
       "'Hello Mit'"
      ]
     },
     "execution_count": 15,
     "metadata": {},
     "output_type": "execute_result"
    }
   ],
   "source": [
    "myWord\n"
   ]
  },
  {
   "cell_type": "code",
   "execution_count": 16,
   "id": "c2c082e8-cb2d-439e-86ec-c8138ec2aa66",
   "metadata": {},
   "outputs": [
    {
     "data": {
      "text/plain": [
       "' '"
      ]
     },
     "execution_count": 16,
     "metadata": {},
     "output_type": "execute_result"
    }
   ],
   "source": [
    "myWord[5]"
   ]
  },
  {
   "cell_type": "code",
   "execution_count": 17,
   "id": "27e3a020-a547-4f98-b89a-85be89d2fc2c",
   "metadata": {},
   "outputs": [
    {
     "data": {
      "text/plain": [
       "'i'"
      ]
     },
     "execution_count": 17,
     "metadata": {},
     "output_type": "execute_result"
    }
   ],
   "source": [
    "myWord[-2]"
   ]
  },
  {
   "cell_type": "code",
   "execution_count": 18,
   "id": "14aea686-c403-4b4d-b0f4-ad0d11619b2e",
   "metadata": {},
   "outputs": [],
   "source": [
    "text =\"Loremipsumdolorsitamet\""
   ]
  },
  {
   "cell_type": "code",
   "execution_count": 19,
   "id": "ba77afb9-7886-4edf-99fc-1f54c821733f",
   "metadata": {},
   "outputs": [
    {
     "data": {
      "text/plain": [
       "'emipsumdolorsitamet'"
      ]
     },
     "execution_count": 19,
     "metadata": {},
     "output_type": "execute_result"
    }
   ],
   "source": [
    "text[3:]"
   ]
  },
  {
   "cell_type": "code",
   "execution_count": 20,
   "id": "ad8d07fb-6331-4091-994e-3c3965ef0e39",
   "metadata": {},
   "outputs": [
    {
     "data": {
      "text/plain": [
       "'Lor'"
      ]
     },
     "execution_count": 20,
     "metadata": {},
     "output_type": "execute_result"
    }
   ],
   "source": [
    "text[:3]"
   ]
  },
  {
   "cell_type": "code",
   "execution_count": 21,
   "id": "784b7f03-5dc3-4c3b-8ff7-cf8a7b6e911a",
   "metadata": {},
   "outputs": [
    {
     "data": {
      "text/plain": [
       "'emi'"
      ]
     },
     "execution_count": 21,
     "metadata": {},
     "output_type": "execute_result"
    }
   ],
   "source": [
    "text[3:6]"
   ]
  },
  {
   "cell_type": "code",
   "execution_count": 22,
   "id": "66129f4e-31a4-4838-8ae1-afb99f0fd679",
   "metadata": {},
   "outputs": [
    {
     "data": {
      "text/plain": [
       "'Lrmpudlriae'"
      ]
     },
     "execution_count": 22,
     "metadata": {},
     "output_type": "execute_result"
    }
   ],
   "source": [
    "text[::2]"
   ]
  },
  {
   "cell_type": "code",
   "execution_count": 23,
   "id": "31d80d0b-7f72-4b10-9250-336617362846",
   "metadata": {},
   "outputs": [],
   "source": [
    "b='hello MITIANS'"
   ]
  },
  {
   "cell_type": "code",
   "execution_count": 24,
   "id": "d0614bdf-e307-45f5-b0e4-74372c5d06b3",
   "metadata": {},
   "outputs": [
    {
     "data": {
      "text/plain": [
       "\"hello MITIANSIt's beautiful evening outside\""
      ]
     },
     "execution_count": 24,
     "metadata": {},
     "output_type": "execute_result"
    }
   ],
   "source": [
    "b + \"It's beautiful evening outside\""
   ]
  },
  {
   "cell_type": "code",
   "execution_count": 25,
   "id": "ee791c31-5685-4694-9117-11ba4e68b09a",
   "metadata": {},
   "outputs": [
    {
     "data": {
      "text/plain": [
       "'HELLO MITIANS'"
      ]
     },
     "execution_count": 25,
     "metadata": {},
     "output_type": "execute_result"
    }
   ],
   "source": [
    "b.upper()"
   ]
  },
  {
   "cell_type": "code",
   "execution_count": 26,
   "id": "4dbd4300-22eb-4a0f-ac04-a7681c9d4075",
   "metadata": {},
   "outputs": [],
   "source": [
    "c=\"Hello World\""
   ]
  },
  {
   "cell_type": "code",
   "execution_count": 27,
   "id": "400b8b5d-f88f-471b-9637-5578342f6862",
   "metadata": {},
   "outputs": [
    {
     "name": "stdout",
     "output_type": "stream",
     "text": [
      "2602082667952\n"
     ]
    }
   ],
   "source": [
    "print(id(c))"
   ]
  },
  {
   "cell_type": "code",
   "execution_count": 28,
   "id": "34fee007-3176-434f-89ed-bbdf0c4c9296",
   "metadata": {},
   "outputs": [
    {
     "data": {
      "text/plain": [
       "['Hello', 'World']"
      ]
     },
     "execution_count": 28,
     "metadata": {},
     "output_type": "execute_result"
    }
   ],
   "source": [
    "c.split()"
   ]
  },
  {
   "cell_type": "code",
   "execution_count": 1,
   "id": "bda22625-6392-480f-97ad-350d7d41e294",
   "metadata": {},
   "outputs": [],
   "source": [
    "a=100"
   ]
  },
  {
   "cell_type": "code",
   "execution_count": 2,
   "id": "b3eb2948-073c-4831-b101-1c89c7d76667",
   "metadata": {},
   "outputs": [],
   "source": [
    "b=10"
   ]
  },
  {
   "cell_type": "code",
   "execution_count": 3,
   "id": "cb767b95-797a-4d19-b160-059ae05e78f7",
   "metadata": {},
   "outputs": [
    {
     "data": {
      "text/plain": [
       "False"
      ]
     },
     "execution_count": 3,
     "metadata": {},
     "output_type": "execute_result"
    }
   ],
   "source": [
    "a==b"
   ]
  },
  {
   "cell_type": "code",
   "execution_count": 4,
   "id": "8a47ae2f-c69f-403f-8bf9-f06f1b41e659",
   "metadata": {},
   "outputs": [
    {
     "data": {
      "text/plain": [
       "110"
      ]
     },
     "execution_count": 4,
     "metadata": {},
     "output_type": "execute_result"
    }
   ],
   "source": [
    "a+b\n"
   ]
  },
  {
   "cell_type": "code",
   "execution_count": 5,
   "id": "376e4254-2ad8-42f7-a525-caba8c52f7fc",
   "metadata": {},
   "outputs": [
    {
     "data": {
      "text/plain": [
       "90"
      ]
     },
     "execution_count": 5,
     "metadata": {},
     "output_type": "execute_result"
    }
   ],
   "source": [
    "a-b"
   ]
  },
  {
   "cell_type": "code",
   "execution_count": 6,
   "id": "65b40af7-aa89-46e7-91bd-e8d3a0c93aa2",
   "metadata": {},
   "outputs": [
    {
     "data": {
      "text/plain": [
       "1000"
      ]
     },
     "execution_count": 6,
     "metadata": {},
     "output_type": "execute_result"
    }
   ],
   "source": [
    "a*b"
   ]
  },
  {
   "cell_type": "code",
   "execution_count": 7,
   "id": "c1905e64-a62c-4044-aa28-0127b227a1ef",
   "metadata": {},
   "outputs": [
    {
     "data": {
      "text/plain": [
       "10.0"
      ]
     },
     "execution_count": 7,
     "metadata": {},
     "output_type": "execute_result"
    }
   ],
   "source": [
    "a/b"
   ]
  },
  {
   "cell_type": "code",
   "execution_count": 8,
   "id": "0991bcfb-a9e8-4b53-be1d-29b34a9cf67c",
   "metadata": {},
   "outputs": [
    {
     "data": {
      "text/plain": [
       "0"
      ]
     },
     "execution_count": 8,
     "metadata": {},
     "output_type": "execute_result"
    }
   ],
   "source": [
    "a%b"
   ]
  },
  {
   "cell_type": "code",
   "execution_count": 9,
   "id": "fcde2d65-5571-4e4e-9431-86d1f409b6fc",
   "metadata": {},
   "outputs": [
    {
     "data": {
      "text/plain": [
       "10"
      ]
     },
     "execution_count": 9,
     "metadata": {},
     "output_type": "execute_result"
    }
   ],
   "source": [
    "a%30"
   ]
  },
  {
   "cell_type": "code",
   "execution_count": 10,
   "id": "2236434a-6d28-4efb-b390-9700bc31622a",
   "metadata": {},
   "outputs": [
    {
     "data": {
      "text/plain": [
       "10000"
      ]
     },
     "execution_count": 10,
     "metadata": {},
     "output_type": "execute_result"
    }
   ],
   "source": [
    "a**2"
   ]
  },
  {
   "cell_type": "code",
   "execution_count": 11,
   "id": "fffc0b1c-d0c7-408b-a8e1-66a3d53a8c9d",
   "metadata": {},
   "outputs": [
    {
     "data": {
      "text/plain": [
       "3"
      ]
     },
     "execution_count": 11,
     "metadata": {},
     "output_type": "execute_result"
    }
   ],
   "source": [
    "a//30"
   ]
  },
  {
   "cell_type": "code",
   "execution_count": 12,
   "id": "e77c18b1-44b4-486a-8765-a1e9c7efbefa",
   "metadata": {},
   "outputs": [
    {
     "data": {
      "text/plain": [
       "True"
      ]
     },
     "execution_count": 12,
     "metadata": {},
     "output_type": "execute_result"
    }
   ],
   "source": [
    "a>b\n"
   ]
  },
  {
   "cell_type": "code",
   "execution_count": 13,
   "id": "d9c505b2-af69-436d-8931-f88a90c4d078",
   "metadata": {},
   "outputs": [
    {
     "data": {
      "text/plain": [
       "2"
      ]
     },
     "execution_count": 13,
     "metadata": {},
     "output_type": "execute_result"
    }
   ],
   "source": [
    "10-4*2"
   ]
  },
  {
   "cell_type": "code",
   "execution_count": 14,
   "id": "4d3b3e93-388d-41ea-b4db-cbab47585baa",
   "metadata": {},
   "outputs": [
    {
     "data": {
      "text/plain": [
       "12"
      ]
     },
     "execution_count": 14,
     "metadata": {},
     "output_type": "execute_result"
    }
   ],
   "source": [
    "(10-4)*2"
   ]
  },
  {
   "cell_type": "code",
   "execution_count": 15,
   "id": "7da46595-6939-4cc4-ba2e-a13cb6513832",
   "metadata": {},
   "outputs": [],
   "source": [
    "min=50 if 49<50 else 70 # min =70"
   ]
  },
  {
   "cell_type": "code",
   "execution_count": 16,
   "id": "d343fab0-43bc-4aea-bbd0-db6b29396b8c",
   "metadata": {},
   "outputs": [],
   "source": [
    "min=50"
   ]
  },
  {
   "cell_type": "code",
   "execution_count": 19,
   "id": "fa6021b1-441d-4f1b-9fed-7bbe3319396f",
   "metadata": {},
   "outputs": [],
   "source": [
    "min=50 if 49 < 50 else 70"
   ]
  },
  {
   "cell_type": "code",
   "execution_count": 20,
   "id": "07ad13a9-c45a-4fab-a55d-7cec6ef36b69",
   "metadata": {},
   "outputs": [
    {
     "name": "stdout",
     "output_type": "stream",
     "text": [
      "50\n"
     ]
    }
   ],
   "source": [
    "print(min)"
   ]
  },
  {
   "cell_type": "markdown",
   "id": "54017f11-498d-4710-aa92-9733f9bf66ca",
   "metadata": {},
   "source": [
    "##### "
   ]
  },
  {
   "cell_type": "code",
   "execution_count": 21,
   "id": "09ebe2d1-7300-4c1b-93a1-1ee1dd690fea",
   "metadata": {},
   "outputs": [],
   "source": [
    "a=5"
   ]
  },
  {
   "cell_type": "code",
   "execution_count": 22,
   "id": "9ec8e4a2-747b-45cd-886b-33c24311c3d1",
   "metadata": {},
   "outputs": [],
   "source": [
    "b=6"
   ]
  },
  {
   "cell_type": "code",
   "execution_count": 23,
   "id": "8267bb8b-c440-4e83-b673-3c8d71d02e53",
   "metadata": {},
   "outputs": [
    {
     "name": "stdout",
     "output_type": "stream",
     "text": [
      "True\n"
     ]
    }
   ],
   "source": [
    "print((a>2) and (b>=6))"
   ]
  },
  {
   "cell_type": "code",
   "execution_count": 25,
   "id": "2364d444-c4f8-4968-8c54-d6c57f2e9525",
   "metadata": {},
   "outputs": [],
   "source": [
    "a=7"
   ]
  },
  {
   "cell_type": "code",
   "execution_count": 26,
   "id": "b37e7ee8-cecb-4688-a41d-09d75e5db99c",
   "metadata": {},
   "outputs": [
    {
     "name": "stdout",
     "output_type": "stream",
     "text": [
      "Low\n"
     ]
    }
   ],
   "source": [
    "print(\"Low\" if a<10 else \"high\")"
   ]
  },
  {
   "cell_type": "code",
   "execution_count": 27,
   "id": "69b19370-1d1e-456b-a174-b2e33d319b9c",
   "metadata": {},
   "outputs": [],
   "source": [
    "# list literal\n"
   ]
  },
  {
   "cell_type": "code",
   "execution_count": 28,
   "id": "83a6e7ae-b6aa-4b58-81ec-4b90c0de3333",
   "metadata": {},
   "outputs": [],
   "source": [
    "fruits = [\"apple\", \"mango\", \"orange\"]"
   ]
  },
  {
   "cell_type": "code",
   "execution_count": 29,
   "id": "a4f53ef6-4b19-4693-8f45-05c306d022d2",
   "metadata": {},
   "outputs": [
    {
     "name": "stdout",
     "output_type": "stream",
     "text": [
      "['apple', 'mango', 'orange']\n"
     ]
    }
   ],
   "source": [
    "print(fruits)"
   ]
  },
  {
   "cell_type": "code",
   "execution_count": 30,
   "id": "a13fdfe7-3a0b-49f8-9e40-b6e99864284c",
   "metadata": {},
   "outputs": [],
   "source": [
    "#tuple literal"
   ]
  },
  {
   "cell_type": "code",
   "execution_count": 31,
   "id": "9190d0aa-eec3-431f-8072-5ecdf9ab5367",
   "metadata": {},
   "outputs": [],
   "source": [
    "numbers = (1,2,3)"
   ]
  },
  {
   "cell_type": "code",
   "execution_count": 32,
   "id": "424a98ca-92fd-4899-bc33-d881758f1f41",
   "metadata": {},
   "outputs": [
    {
     "name": "stdout",
     "output_type": "stream",
     "text": [
      "(1, 2, 3)\n"
     ]
    }
   ],
   "source": [
    "print(numbers)"
   ]
  },
  {
   "cell_type": "code",
   "execution_count": 33,
   "id": "20a92f7e-84ee-48aa-8476-15f2e75c187f",
   "metadata": {},
   "outputs": [],
   "source": [
    "#Input"
   ]
  },
  {
   "cell_type": "code",
   "execution_count": 37,
   "id": "11c81a1d-51fe-4e0d-a0c4-b434bd0825be",
   "metadata": {},
   "outputs": [
    {
     "name": "stdin",
     "output_type": "stream",
     "text": [
      "enter the name! Shristi\n"
     ]
    }
   ],
   "source": [
    " name= input(\"enter the name!\")"
   ]
  },
  {
   "cell_type": "code",
   "execution_count": 38,
   "id": "4c8f4e77-a9f6-4162-9fce-363245d0d059",
   "metadata": {},
   "outputs": [
    {
     "name": "stdout",
     "output_type": "stream",
     "text": [
      "welcome, Shristi\n"
     ]
    }
   ],
   "source": [
    "print(\"welcome, \" +name)"
   ]
  },
  {
   "cell_type": "code",
   "execution_count": 42,
   "id": "c6a7bd25-8912-49fc-b325-d021ad92e0de",
   "metadata": {},
   "outputs": [
    {
     "name": "stdout",
     "output_type": "stream",
     "text": [
      "welcome,/n"
     ]
    }
   ],
   "source": [
    "print(\"welcome,\" , end =\"/n\")"
   ]
  },
  {
   "cell_type": "code",
   "execution_count": 43,
   "id": "78faa221-c514-4c53-a39d-f31b1187255a",
   "metadata": {},
   "outputs": [],
   "source": [
    "a=10"
   ]
  },
  {
   "cell_type": "code",
   "execution_count": 44,
   "id": "72ec50ed-e7bc-4d7d-bb96-d05265a9d25e",
   "metadata": {},
   "outputs": [
    {
     "name": "stdout",
     "output_type": "stream",
     "text": [
      "the value of a is=>10=>10---"
     ]
    }
   ],
   "source": [
    "print(\"the value of a is\", a, 10, sep='=>', end=\"---\")"
   ]
  },
  {
   "cell_type": "code",
   "execution_count": 45,
   "id": "bab6cbff-435b-4a84-9acd-25310ee17ffc",
   "metadata": {},
   "outputs": [],
   "source": [
    "# Exception handling"
   ]
  },
  {
   "cell_type": "code",
   "execution_count": 46,
   "id": "3d35a90c-e4c0-4b47-831a-ef9c71dc624d",
   "metadata": {},
   "outputs": [],
   "source": [
    "user = 0"
   ]
  },
  {
   "cell_type": "code",
   "execution_count": 50,
   "id": "1c5584c1-3f93-4725-8d14-4dd0ce3c5a6c",
   "metadata": {},
   "outputs": [
    {
     "name": "stdin",
     "output_type": "stream",
     "text": [
      "Please enter a number:  32.33\n"
     ]
    },
    {
     "name": "stdout",
     "output_type": "stream",
     "text": [
      "Integer not found\n"
     ]
    },
    {
     "name": "stdin",
     "output_type": "stream",
     "text": [
      "Please enter a number:  23\n"
     ]
    },
    {
     "name": "stdout",
     "output_type": "stream",
     "text": [
      "Integer found\n"
     ]
    }
   ],
   "source": [
    "while True:\n",
    "    try:\n",
    "        user = int(input(\"Please enter a number: \"))\n",
    "    except ValueError:\n",
    "        print(\"Integer not found\")\n",
    "        continue\n",
    "    else:\n",
    "        print(\"Integer found\")\n",
    "        break"
   ]
  },
  {
   "cell_type": "code",
   "execution_count": 52,
   "id": "a7abbb2b-c348-4a91-aa6b-6f5a6c2857a6",
   "metadata": {},
   "outputs": [],
   "source": [
    "x=3"
   ]
  },
  {
   "cell_type": "code",
   "execution_count": 53,
   "id": "ef94b411-b982-4f04-849e-72233403883a",
   "metadata": {},
   "outputs": [],
   "source": [
    "def cube(x):\n",
    "    return x*x*x"
   ]
  },
  {
   "cell_type": "code",
   "execution_count": 55,
   "id": "cd6bec54-b8d4-440c-bc35-e78880392ec2",
   "metadata": {},
   "outputs": [
    {
     "name": "stdin",
     "output_type": "stream",
     "text": [
      "Enter number:  32\n"
     ]
    }
   ],
   "source": [
    "a=int(input(\"Enter number: \"))"
   ]
  },
  {
   "cell_type": "code",
   "execution_count": 56,
   "id": "e87ab801-d100-468a-91e6-2d6567ee7835",
   "metadata": {},
   "outputs": [
    {
     "name": "stdout",
     "output_type": "stream",
     "text": [
      "cube of  32 is 32768\n"
     ]
    }
   ],
   "source": [
    "print(\"cube of \",a, \"is\", cube(a))"
   ]
  },
  {
   "cell_type": "code",
   "execution_count": 57,
   "id": "c6e9e1ec-9d77-4598-9485-973bec32c796",
   "metadata": {},
   "outputs": [],
   "source": [
    "#format\n"
   ]
  },
  {
   "cell_type": "code",
   "execution_count": 58,
   "id": "69551db4-f500-4845-b2e0-3879758f7d38",
   "metadata": {},
   "outputs": [],
   "source": [
    "num1=10"
   ]
  },
  {
   "cell_type": "code",
   "execution_count": 59,
   "id": "dcc41043-257b-47bc-a17d-58ec93bde67e",
   "metadata": {},
   "outputs": [],
   "source": [
    "num2=20"
   ]
  },
  {
   "cell_type": "code",
   "execution_count": 60,
   "id": "034d30d3-f37c-4865-a3cb-74386dfd7db4",
   "metadata": {},
   "outputs": [],
   "source": [
    "addition= num1+num2"
   ]
  },
  {
   "cell_type": "code",
   "execution_count": 61,
   "id": "e6cb85e8-db9c-4d37-9ecd-0964d6c908ec",
   "metadata": {},
   "outputs": [
    {
     "name": "stdout",
     "output_type": "stream",
     "text": [
      "The sum of 10 + 20 =30\n"
     ]
    }
   ],
   "source": [
    "print(\"The sum of {} + {} ={}\".format(num1,num2,addition))"
   ]
  },
  {
   "cell_type": "code",
   "execution_count": 62,
   "id": "7f62d4c5-06d3-4293-b83f-172fa2ca5a3e",
   "metadata": {},
   "outputs": [],
   "source": [
    "num1=10"
   ]
  },
  {
   "cell_type": "code",
   "execution_count": 63,
   "id": "d8dca70d-7690-4a7f-8dae-6adff2698c1e",
   "metadata": {},
   "outputs": [],
   "source": [
    "num2=20"
   ]
  },
  {
   "cell_type": "code",
   "execution_count": 64,
   "id": "e25d6077-18e4-4679-9b8d-cf7c8e1164d3",
   "metadata": {},
   "outputs": [],
   "source": [
    "addition= num1+num2"
   ]
  },
  {
   "cell_type": "code",
   "execution_count": 65,
   "id": "43647984-ac42-4b82-b63a-57ab67e9e98e",
   "metadata": {},
   "outputs": [
    {
     "name": "stdout",
     "output_type": "stream",
     "text": [
      "I love MIT Students\n"
     ]
    }
   ],
   "source": [
    "print(\"I love {0} {1}\".format('MIT', 'Students'))"
   ]
  },
  {
   "cell_type": "code",
   "execution_count": 66,
   "id": "5c8c6f57-9532-49cc-b233-ce1d55039570",
   "metadata": {},
   "outputs": [],
   "source": [
    "x=123.3232"
   ]
  },
  {
   "cell_type": "code",
   "execution_count": 67,
   "id": "dda2ca79-24e4-4063-9c0b-bbdd47311728",
   "metadata": {},
   "outputs": [
    {
     "name": "stdout",
     "output_type": "stream",
     "text": [
      "The value of x is 123.32\n"
     ]
    }
   ],
   "source": [
    "print('The value of x is %0.2f' %x)"
   ]
  },
  {
   "cell_type": "code",
   "execution_count": 68,
   "id": "7f353c79-f424-4c6e-9a69-bf15ffe7fd12",
   "metadata": {},
   "outputs": [
    {
     "name": "stdout",
     "output_type": "stream",
     "text": [
      "The value of x is 123.323\n"
     ]
    }
   ],
   "source": [
    "print('The value of x is %0.3f' %x)"
   ]
  },
  {
   "cell_type": "code",
   "execution_count": null,
   "id": "201c19c2-5ff5-4166-a66a-b24e63ac9119",
   "metadata": {},
   "outputs": [],
   "source": [
    "#Control Flow Statements\n",
    ". Conditional Statements : Four Types; if, if-else, if-elif-else, nested-if\n",
    "if-elif-else statement\n",
    "if condition-1:\n",
    "    statement 1\n",
    "elif condition-2:\n",
    "        statement 2\n",
    "elif condition-3\n",
    " statement 3\n",
    "    ..\n",
    "\n",
    "else\n",
    "print(..)\n",
    ". Iterative Statements\n",
    ". Transfer/Control Statements"
   ]
  },
  {
   "cell_type": "code",
   "execution_count": 69,
   "id": "c9627909-0853-40f9-aaaa-008af2f4ef2e",
   "metadata": {},
   "outputs": [],
   "source": [
    "a=0"
   ]
  },
  {
   "cell_type": "code",
   "execution_count": 71,
   "id": "12820dce-7076-4582-9099-2a2a120fcffe",
   "metadata": {},
   "outputs": [
    {
     "name": "stdout",
     "output_type": "stream",
     "text": [
      "A is zero\n"
     ]
    }
   ],
   "source": [
    "if a>0 and a%2 == 0:\n",
    "    print('A is an even and positive integer')\n",
    "elif a>0 and a%2 != 0:\n",
    "    print('A is positive integer')\n",
    "elif a==0:\n",
    " print('A is zero')\n",
    "else:\n",
    " print('A is negative')"
   ]
  },
  {
   "cell_type": "code",
   "execution_count": 1,
   "id": "952a9217-7d03-480d-bbc8-26a8bc247c54",
   "metadata": {},
   "outputs": [],
   "source": [
    "#nested list"
   ]
  },
  {
   "cell_type": "code",
   "execution_count": 2,
   "id": "28da166c-d79d-474f-8c75-1a35f4782c9a",
   "metadata": {},
   "outputs": [],
   "source": [
    "lst1=[1,2,3]"
   ]
  },
  {
   "cell_type": "code",
   "execution_count": 3,
   "id": "f147bc54-0230-4103-b54e-1e38779c7aef",
   "metadata": {},
   "outputs": [],
   "source": [
    "lst2=[4,5,6]"
   ]
  },
  {
   "cell_type": "code",
   "execution_count": 4,
   "id": "b802a109-517b-48c0-a34e-23a2ebd4de78",
   "metadata": {},
   "outputs": [],
   "source": [
    "lst3=[7,8,9]"
   ]
  },
  {
   "cell_type": "code",
   "execution_count": 5,
   "id": "c202f2a9-5473-4d04-a945-3a6b9a3809ed",
   "metadata": {},
   "outputs": [],
   "source": [
    "lst4=[lst1,lst2,lst3]"
   ]
  },
  {
   "cell_type": "code",
   "execution_count": 6,
   "id": "6453ce77-43fc-4cf7-be7e-6ac0432b9951",
   "metadata": {},
   "outputs": [
    {
     "data": {
      "text/plain": [
       "[[1, 2, 3], [4, 5, 6], [7, 8, 9]]"
      ]
     },
     "execution_count": 6,
     "metadata": {},
     "output_type": "execute_result"
    }
   ],
   "source": [
    "lst4"
   ]
  },
  {
   "cell_type": "code",
   "execution_count": 7,
   "id": "c022f49e-9a69-49f3-b992-1a9b4d8fb231",
   "metadata": {},
   "outputs": [],
   "source": [
    "#tuple"
   ]
  },
  {
   "cell_type": "code",
   "execution_count": 8,
   "id": "792f922d-ae9e-45e9-8d3f-e450983550a0",
   "metadata": {},
   "outputs": [],
   "source": [
    "my_tuple=('p','e','r','m','i','t')"
   ]
  },
  {
   "cell_type": "code",
   "execution_count": 9,
   "id": "333b960e-44e6-4f16-bb36-2bdb071b89d8",
   "metadata": {},
   "outputs": [
    {
     "name": "stdout",
     "output_type": "stream",
     "text": [
      "p\n"
     ]
    }
   ],
   "source": [
    "print(my_tuple[0])"
   ]
  },
  {
   "cell_type": "code",
   "execution_count": 10,
   "id": "204e6048-0af8-479f-b1da-d5d64dd880a1",
   "metadata": {},
   "outputs": [
    {
     "name": "stdout",
     "output_type": "stream",
     "text": [
      "t\n"
     ]
    }
   ],
   "source": [
    "print(my_tuple[5])"
   ]
  },
  {
   "cell_type": "code",
   "execution_count": 11,
   "id": "e7265dde-f4c9-4145-9b0d-5cdc69892cb6",
   "metadata": {},
   "outputs": [
    {
     "name": "stdout",
     "output_type": "stream",
     "text": [
      "Last Index: 5\n"
     ]
    }
   ],
   "source": [
    "print(\"Last Index:\", len(my_tuple)-1)"
   ]
  },
  {
   "cell_type": "code",
   "execution_count": 12,
   "id": "e9b8497b-0369-4a14-bc66-4a5ce27271fd",
   "metadata": {},
   "outputs": [
    {
     "name": "stdout",
     "output_type": "stream",
     "text": [
      "Last Element: t\n"
     ]
    }
   ],
   "source": [
    "print(\"Last Element:\", my_tuple[len(my_tuple)-1])"
   ]
  },
  {
   "cell_type": "code",
   "execution_count": 13,
   "id": "643e5d13-2308-48a8-8c29-07e8d91a7803",
   "metadata": {},
   "outputs": [],
   "source": [
    "#Changing tuple values\n",
    "my_tuple=(4,2,3,[6,5])"
   ]
  },
  {
   "cell_type": "code",
   "execution_count": 14,
   "id": "062f1c47-01a2-4503-9217-bbf298933364",
   "metadata": {},
   "outputs": [
    {
     "ename": "TypeError",
     "evalue": "'tuple' object does not support item assignment",
     "output_type": "error",
     "traceback": [
      "\u001b[1;31m---------------------------------------------------------------------------\u001b[0m",
      "\u001b[1;31mTypeError\u001b[0m                                 Traceback (most recent call last)",
      "Cell \u001b[1;32mIn[14], line 1\u001b[0m\n\u001b[1;32m----> 1\u001b[0m \u001b[43mmy_tuple\u001b[49m\u001b[43m[\u001b[49m\u001b[38;5;241;43m1\u001b[39;49m\u001b[43m]\u001b[49m\u001b[38;5;241m=\u001b[39m\u001b[38;5;241m9\u001b[39m\n",
      "\u001b[1;31mTypeError\u001b[0m: 'tuple' object does not support item assignment"
     ]
    }
   ],
   "source": [
    "my_tuple[1]=9"
   ]
  },
  {
   "cell_type": "code",
   "execution_count": 15,
   "id": "9fe285a1-fe97-4dfd-93f9-c58ee1086f83",
   "metadata": {},
   "outputs": [],
   "source": [
    "my_tuple[3][0]=9"
   ]
  },
  {
   "cell_type": "code",
   "execution_count": 16,
   "id": "ef2ecea9-5953-4684-8e34-10bed7a0b259",
   "metadata": {},
   "outputs": [
    {
     "name": "stdout",
     "output_type": "stream",
     "text": [
      "(4, 2, 3, [9, 5])\n"
     ]
    }
   ],
   "source": [
    "print(my_tuple)"
   ]
  },
  {
   "cell_type": "code",
   "execution_count": 17,
   "id": "8207209b-56db-431b-993a-0cee9e70773b",
   "metadata": {},
   "outputs": [],
   "source": [
    "t1=(1,2,3)"
   ]
  },
  {
   "cell_type": "code",
   "execution_count": 18,
   "id": "f38b3672-4dc3-42f6-b176-ccbb7c4faa23",
   "metadata": {},
   "outputs": [],
   "source": [
    "t2=('x','y','z')"
   ]
  },
  {
   "cell_type": "code",
   "execution_count": 19,
   "id": "81397e7b-1f2f-45a5-9f98-a9b157fd1973",
   "metadata": {},
   "outputs": [],
   "source": [
    "t3=t1+t2"
   ]
  },
  {
   "cell_type": "code",
   "execution_count": 20,
   "id": "c39c1db2-f15c-4e87-9d20-e870f7c8e1c6",
   "metadata": {},
   "outputs": [
    {
     "name": "stdout",
     "output_type": "stream",
     "text": [
      "(1, 2, 3, 'x', 'y', 'z')\n"
     ]
    }
   ],
   "source": [
    "print(t3)"
   ]
  },
  {
   "cell_type": "code",
   "execution_count": 21,
   "id": "2a0c318d-863d-4655-ae8e-cd570de25bed",
   "metadata": {},
   "outputs": [
    {
     "name": "stdout",
     "output_type": "stream",
     "text": [
      "(1, 2, 3, 1, 2, 3)\n"
     ]
    }
   ],
   "source": [
    "print(t1*2)"
   ]
  },
  {
   "cell_type": "code",
   "execution_count": 22,
   "id": "e7db17ba-5e15-4237-955d-e598e67891d9",
   "metadata": {},
   "outputs": [
    {
     "name": "stdout",
     "output_type": "stream",
     "text": [
      "('x', 'y', 'z', 'x', 'y', 'z', 'x', 'y', 'z')\n"
     ]
    }
   ],
   "source": [
    "print(t2*3)"
   ]
  },
  {
   "cell_type": "code",
   "execution_count": 23,
   "id": "7f4f3f23-b403-402b-8af9-05cebfb6149a",
   "metadata": {},
   "outputs": [],
   "source": [
    "#dictionary\n",
    "dict={1:'Python',2:'Java',3:'C++','c':'Good language'}"
   ]
  },
  {
   "cell_type": "code",
   "execution_count": 24,
   "id": "3cc4aade-456c-4b99-9135-9903f2517132",
   "metadata": {},
   "outputs": [
    {
     "name": "stdout",
     "output_type": "stream",
     "text": [
      "dict_keys([1, 2, 3, 'c'])\n"
     ]
    }
   ],
   "source": [
    "print(dict.keys())"
   ]
  },
  {
   "cell_type": "code",
   "execution_count": 25,
   "id": "d518e4d6-e2fb-4b68-a96b-d8583e1919d8",
   "metadata": {},
   "outputs": [
    {
     "name": "stdout",
     "output_type": "stream",
     "text": [
      "Python\n",
      "Java\n",
      "C++\n",
      "Good language\n"
     ]
    }
   ],
   "source": [
    "for x in dict.keys():\n",
    "    print(dict[x])"
   ]
  },
  {
   "cell_type": "code",
   "execution_count": 26,
   "id": "8001372d-fd69-492c-8b9a-ceef53609600",
   "metadata": {},
   "outputs": [],
   "source": [
    "#Set\n",
    "my_set={1,2,3,4,5,6}"
   ]
  },
  {
   "cell_type": "code",
   "execution_count": 27,
   "id": "e8e299d3-3543-42ef-aad5-80871475d7dc",
   "metadata": {},
   "outputs": [
    {
     "name": "stdout",
     "output_type": "stream",
     "text": [
      "{1, 2, 3, 4, 5, 6}\n"
     ]
    }
   ],
   "source": [
    "print(my_set)"
   ]
  },
  {
   "cell_type": "code",
   "execution_count": 28,
   "id": "33f0a599-18fe-417b-ad0f-4e540a0e6e97",
   "metadata": {},
   "outputs": [],
   "source": [
    "my_set.discard(4)"
   ]
  },
  {
   "cell_type": "code",
   "execution_count": 29,
   "id": "94c70fb7-036e-40b6-b29b-f6bd3c55ac3d",
   "metadata": {},
   "outputs": [
    {
     "name": "stdout",
     "output_type": "stream",
     "text": [
      "{1, 2, 3, 5, 6}\n"
     ]
    }
   ],
   "source": [
    "print(my_set)"
   ]
  },
  {
   "cell_type": "code",
   "execution_count": 30,
   "id": "5e1df462-23b1-4f9b-9477-95b6a546f3d3",
   "metadata": {},
   "outputs": [],
   "source": [
    "my_set.remove(6)"
   ]
  },
  {
   "cell_type": "code",
   "execution_count": 31,
   "id": "8a707358-e831-400c-ab7a-c1db58d64020",
   "metadata": {},
   "outputs": [
    {
     "name": "stdout",
     "output_type": "stream",
     "text": [
      "{1, 2, 3, 5}\n"
     ]
    }
   ],
   "source": [
    "print(my_set)"
   ]
  },
  {
   "cell_type": "code",
   "execution_count": 32,
   "id": "d6f0cb12-0498-4b2c-8e82-b34c339844f8",
   "metadata": {},
   "outputs": [],
   "source": [
    "my_set.discard(2)"
   ]
  },
  {
   "cell_type": "code",
   "execution_count": 33,
   "id": "dcd1b8d3-eb29-4039-abe0-8327927ed0b5",
   "metadata": {},
   "outputs": [
    {
     "name": "stdout",
     "output_type": "stream",
     "text": [
      "{1, 3, 5}\n"
     ]
    }
   ],
   "source": [
    "print(my_set)"
   ]
  },
  {
   "cell_type": "code",
   "execution_count": 34,
   "id": "179bab8f-44c3-4482-a44d-c531db23909f",
   "metadata": {},
   "outputs": [
    {
     "ename": "KeyError",
     "evalue": "2",
     "output_type": "error",
     "traceback": [
      "\u001b[1;31m---------------------------------------------------------------------------\u001b[0m",
      "\u001b[1;31mKeyError\u001b[0m                                  Traceback (most recent call last)",
      "Cell \u001b[1;32mIn[34], line 1\u001b[0m\n\u001b[1;32m----> 1\u001b[0m \u001b[43mmy_set\u001b[49m\u001b[38;5;241;43m.\u001b[39;49m\u001b[43mremove\u001b[49m\u001b[43m(\u001b[49m\u001b[38;5;241;43m2\u001b[39;49m\u001b[43m)\u001b[49m\n",
      "\u001b[1;31mKeyError\u001b[0m: 2"
     ]
    }
   ],
   "source": [
    "my_set.remove(2)"
   ]
  },
  {
   "cell_type": "code",
   "execution_count": 35,
   "id": "9e1bf0d8-5c44-4d8a-8b32-9038c6be1d4c",
   "metadata": {},
   "outputs": [
    {
     "name": "stdout",
     "output_type": "stream",
     "text": [
      "{1, 3, 5}\n"
     ]
    }
   ],
   "source": [
    "print(my_set)"
   ]
  },
  {
   "cell_type": "code",
   "execution_count": 36,
   "id": "507cbfde-1dcd-4f03-8619-f9820749b59e",
   "metadata": {},
   "outputs": [],
   "source": [
    "#set operations"
   ]
  },
  {
   "cell_type": "code",
   "execution_count": 37,
   "id": "a8f43640-a71e-4874-9840-f59a3c4deb13",
   "metadata": {},
   "outputs": [],
   "source": [
    "A={1,2,3,4,5}"
   ]
  },
  {
   "cell_type": "code",
   "execution_count": 38,
   "id": "c087e517-056c-463a-8c7c-b59ed363d5b4",
   "metadata": {},
   "outputs": [],
   "source": [
    "B={4,5,6,7,8}"
   ]
  },
  {
   "cell_type": "code",
   "execution_count": 39,
   "id": "59f913d1-a8db-4e39-9f48-e51f6cd5fe7c",
   "metadata": {},
   "outputs": [
    {
     "name": "stdout",
     "output_type": "stream",
     "text": [
      "{1, 2, 3, 4, 5, 6, 7, 8}\n"
     ]
    }
   ],
   "source": [
    "print(A|B)"
   ]
  },
  {
   "cell_type": "code",
   "execution_count": 40,
   "id": "f61d45c5-6e9e-43ad-9433-455ff9a2c1a1",
   "metadata": {},
   "outputs": [
    {
     "data": {
      "text/plain": [
       "{1, 2, 3, 4, 5, 6, 7, 8}"
      ]
     },
     "execution_count": 40,
     "metadata": {},
     "output_type": "execute_result"
    }
   ],
   "source": [
    "A.union(B)"
   ]
  },
  {
   "cell_type": "code",
   "execution_count": 41,
   "id": "56cb4a02-b03b-4261-b1d6-f705669c9d13",
   "metadata": {},
   "outputs": [
    {
     "data": {
      "text/plain": [
       "{1, 2, 3, 4, 5, 6, 7, 8}"
      ]
     },
     "execution_count": 41,
     "metadata": {},
     "output_type": "execute_result"
    }
   ],
   "source": [
    "B.union(A)"
   ]
  },
  {
   "cell_type": "code",
   "execution_count": 42,
   "id": "71e001af-c4f9-495d-90e4-08b5521186e8",
   "metadata": {},
   "outputs": [
    {
     "name": "stdout",
     "output_type": "stream",
     "text": [
      "{4, 5}\n"
     ]
    }
   ],
   "source": [
    "print(A&B)"
   ]
  },
  {
   "cell_type": "code",
   "execution_count": 43,
   "id": "34bd59a3-d026-478f-a523-fdb01aa18c39",
   "metadata": {},
   "outputs": [
    {
     "data": {
      "text/plain": [
       "{4, 5}"
      ]
     },
     "execution_count": 43,
     "metadata": {},
     "output_type": "execute_result"
    }
   ],
   "source": [
    "A.intersection(B)"
   ]
  },
  {
   "cell_type": "code",
   "execution_count": 44,
   "id": "e2a24295-23a1-4644-b96b-28c28fae3134",
   "metadata": {},
   "outputs": [
    {
     "data": {
      "text/plain": [
       "{4, 5}"
      ]
     },
     "execution_count": 44,
     "metadata": {},
     "output_type": "execute_result"
    }
   ],
   "source": [
    "B.intersection(A)"
   ]
  },
  {
   "cell_type": "code",
   "execution_count": 45,
   "id": "2448404c-fd55-45ba-a6ab-6328bd14e62e",
   "metadata": {},
   "outputs": [
    {
     "name": "stdout",
     "output_type": "stream",
     "text": [
      "{1, 2, 3, 6, 7, 8}\n"
     ]
    }
   ],
   "source": [
    "print(A^B)"
   ]
  },
  {
   "cell_type": "code",
   "execution_count": 46,
   "id": "e751e9ff-33c8-4f85-a35d-4b9419e60412",
   "metadata": {},
   "outputs": [
    {
     "data": {
      "text/plain": [
       "{1, 2, 3, 6, 7, 8}"
      ]
     },
     "execution_count": 46,
     "metadata": {},
     "output_type": "execute_result"
    }
   ],
   "source": [
    "A.symmetric_difference(B)"
   ]
  },
  {
   "cell_type": "code",
   "execution_count": 47,
   "id": "1dfa845f-674f-4329-a4d5-53fefb7d5706",
   "metadata": {},
   "outputs": [
    {
     "data": {
      "text/plain": [
       "{1, 2, 3, 6, 7, 8}"
      ]
     },
     "execution_count": 47,
     "metadata": {},
     "output_type": "execute_result"
    }
   ],
   "source": [
    "B.symmetric_difference(A)"
   ]
  },
  {
   "cell_type": "code",
   "execution_count": 48,
   "id": "3b7f697c-590a-450a-afc9-af5627f7c990",
   "metadata": {},
   "outputs": [],
   "source": [
    "#Ternary Operator"
   ]
  },
  {
   "cell_type": "code",
   "execution_count": 50,
   "id": "427332cc-0a41-4e5c-83c8-94b7d4239906",
   "metadata": {},
   "outputs": [
    {
     "data": {
      "text/plain": [
       "True"
      ]
     },
     "execution_count": 50,
     "metadata": {},
     "output_type": "execute_result"
    }
   ],
   "source": [
    "2>1"
   ]
  },
  {
   "cell_type": "code",
   "execution_count": 52,
   "id": "f2b8db85-89a0-4c52-b06c-15b0a2156c4c",
   "metadata": {},
   "outputs": [
    {
     "data": {
      "text/plain": [
       "False"
      ]
     },
     "execution_count": 52,
     "metadata": {},
     "output_type": "execute_result"
    }
   ],
   "source": [
    "5<1"
   ]
  },
  {
   "cell_type": "code",
   "execution_count": 53,
   "id": "e6ce952a-4e8e-431a-90ea-65ad62405a49",
   "metadata": {},
   "outputs": [],
   "source": [
    "x=\"Is true\" if True else \"Is false\""
   ]
  },
  {
   "cell_type": "code",
   "execution_count": 54,
   "id": "b496b70e-65e3-4e61-aca0-4e28af387e91",
   "metadata": {},
   "outputs": [
    {
     "name": "stdout",
     "output_type": "stream",
     "text": [
      "Is true\n"
     ]
    }
   ],
   "source": [
    "print(x)"
   ]
  },
  {
   "cell_type": "code",
   "execution_count": 55,
   "id": "51c13d37-2ba8-4e6e-8bed-ad0d92a90b89",
   "metadata": {},
   "outputs": [],
   "source": [
    "x=-1"
   ]
  },
  {
   "cell_type": "code",
   "execution_count": 57,
   "id": "b37dc487-e2ba-4642-a7a9-e26913ae02a6",
   "metadata": {},
   "outputs": [
    {
     "name": "stdout",
     "output_type": "stream",
     "text": [
      "x is less than zero\n"
     ]
    }
   ],
   "source": [
    "if x<0:\n",
    "    print('x is less than zero')\n",
    "elif x>0:\n",
    "    print('x is greater than zero')\n",
    "else:\n",
    "    print('x is equal to 0')"
   ]
  },
  {
   "cell_type": "code",
   "execution_count": 58,
   "id": "2e4f6b1c-ce68-4a5e-a57b-aa7965e4ee14",
   "metadata": {},
   "outputs": [],
   "source": [
    "#Functions"
   ]
  },
  {
   "cell_type": "code",
   "execution_count": 59,
   "id": "61cf4de1-77e8-423a-b13c-5172cf7ffda3",
   "metadata": {},
   "outputs": [],
   "source": [
    "def greet():\n",
    "    print(\"Welcome to Python for Data Science\")"
   ]
  },
  {
   "cell_type": "code",
   "execution_count": 60,
   "id": "79dc216d-8ac3-4bd3-95f2-89822dc557d2",
   "metadata": {},
   "outputs": [
    {
     "name": "stdout",
     "output_type": "stream",
     "text": [
      "Welcome to Python for Data Science\n"
     ]
    }
   ],
   "source": [
    "greet()"
   ]
  },
  {
   "cell_type": "code",
   "execution_count": 69,
   "id": "d3a579ce-5600-4930-bb9d-6c31aae217b1",
   "metadata": {},
   "outputs": [],
   "source": [
    "def sum_of_numbers(n):\n",
    "    total=0\n",
    "    for i in irange(n+1):\n",
    "        total+=i\n",
    "        print(total)\n",
    "\n",
    "        print(sum_of_numbers(10))"
   ]
  },
  {
   "cell_type": "code",
   "execution_count": 68,
   "id": "e4070f7e-4e85-4295-844b-029d05417bfd",
   "metadata": {},
   "outputs": [
    {
     "ename": "NameError",
     "evalue": "name 'irange' is not defined",
     "output_type": "error",
     "traceback": [
      "\u001b[1;31m---------------------------------------------------------------------------\u001b[0m",
      "\u001b[1;31mNameError\u001b[0m                                 Traceback (most recent call last)",
      "Cell \u001b[1;32mIn[68], line 1\u001b[0m\n\u001b[1;32m----> 1\u001b[0m \u001b[38;5;28mprint\u001b[39m(\u001b[43msum_of_numbers\u001b[49m\u001b[43m(\u001b[49m\u001b[38;5;241;43m10\u001b[39;49m\u001b[43m)\u001b[49m)\n",
      "Cell \u001b[1;32mIn[67], line 3\u001b[0m, in \u001b[0;36msum_of_numbers\u001b[1;34m(n)\u001b[0m\n\u001b[0;32m      1\u001b[0m \u001b[38;5;28;01mdef\u001b[39;00m\u001b[38;5;250m \u001b[39m\u001b[38;5;21msum_of_numbers\u001b[39m(n):\n\u001b[0;32m      2\u001b[0m     total\u001b[38;5;241m=\u001b[39m\u001b[38;5;241m0\u001b[39m\n\u001b[1;32m----> 3\u001b[0m     \u001b[38;5;28;01mfor\u001b[39;00m i \u001b[38;5;129;01min\u001b[39;00m \u001b[43mirange\u001b[49m(n\u001b[38;5;241m+\u001b[39m\u001b[38;5;241m1\u001b[39m):\n\u001b[0;32m      4\u001b[0m         total\u001b[38;5;241m+\u001b[39m\u001b[38;5;241m=\u001b[39mi\n\u001b[0;32m      5\u001b[0m         \u001b[38;5;28mprint\u001b[39m(total)\n",
      "\u001b[1;31mNameError\u001b[0m: name 'irange' is not defined"
     ]
    }
   ],
   "source": [
    "print(sum_of_numbers(10))"
   ]
  },
  {
   "cell_type": "code",
   "execution_count": 70,
   "id": "240eed09-605d-44bc-8e22-d94586e28100",
   "metadata": {},
   "outputs": [],
   "source": [
    "#Return List"
   ]
  },
  {
   "cell_type": "code",
   "execution_count": 84,
   "id": "68d95623-b48b-4704-8d11-904f13274505",
   "metadata": {},
   "outputs": [
    {
     "ename": "IndentationError",
     "evalue": "unindent does not match any outer indentation level (<string>, line 6)",
     "output_type": "error",
     "traceback": [
      "\u001b[1;36m  File \u001b[1;32m<string>:6\u001b[1;36m\u001b[0m\n\u001b[1;33m    return evens\u001b[0m\n\u001b[1;37m                ^\u001b[0m\n\u001b[1;31mIndentationError\u001b[0m\u001b[1;31m:\u001b[0m unindent does not match any outer indentation level\n"
     ]
    }
   ],
   "source": [
    "def find_even_numbers(n):\n",
    "  evens= []\n",
    "  for i in range(n+1):\n",
    "    if i%2 == 0:\n",
    "        evens.append(i)\n",
    "      return evens\n",
    "print(find_even_numbers(10))"
   ]
  },
  {
   "cell_type": "code",
   "execution_count": 1,
   "id": "2c9a7360-97b0-440a-85d2-ce82ca1f278d",
   "metadata": {},
   "outputs": [],
   "source": [
    "#map function"
   ]
  },
  {
   "cell_type": "code",
   "execution_count": 2,
   "id": "3fd627d9-a738-40da-b10a-550ff19c2e7d",
   "metadata": {},
   "outputs": [],
   "source": [
    "def square(num):\n",
    "    return num*2"
   ]
  },
  {
   "cell_type": "code",
   "execution_count": 3,
   "id": "e81bdc5c-e987-440d-b05f-533769721ae7",
   "metadata": {},
   "outputs": [],
   "source": [
    "my_nums=[1,2,3,4,5]"
   ]
  },
  {
   "cell_type": "code",
   "execution_count": 4,
   "id": "68d79c86-ab7a-40d1-a4c8-886072a75360",
   "metadata": {},
   "outputs": [
    {
     "data": {
      "text/plain": [
       "<map at 0x242b3c2a260>"
      ]
     },
     "execution_count": 4,
     "metadata": {},
     "output_type": "execute_result"
    }
   ],
   "source": [
    "map(square,my_nums)"
   ]
  },
  {
   "cell_type": "code",
   "execution_count": 5,
   "id": "727e1026-9383-4030-9ad0-f57088861364",
   "metadata": {},
   "outputs": [
    {
     "data": {
      "text/plain": [
       "[2, 4, 6, 8, 10]"
      ]
     },
     "execution_count": 5,
     "metadata": {},
     "output_type": "execute_result"
    }
   ],
   "source": [
    "list(map(square,my_nums))"
   ]
  },
  {
   "cell_type": "code",
   "execution_count": 7,
   "id": "68bab0cb-f554-4e66-bb2a-9a2a6c314579",
   "metadata": {},
   "outputs": [],
   "source": [
    "#filter function\n"
   ]
  },
  {
   "cell_type": "code",
   "execution_count": 8,
   "id": "1a986442-d865-4eb4-ba57-20b134e7d7f5",
   "metadata": {},
   "outputs": [],
   "source": [
    "def check_even(num):\n",
    "    return num%2==0\n",
    "    "
   ]
  },
  {
   "cell_type": "code",
   "execution_count": 9,
   "id": "b480c475-d26c-4c30-8b19-2f0b29b16251",
   "metadata": {},
   "outputs": [],
   "source": [
    "nums=[0,1,2,3,4,5,6,7,8,9,10]"
   ]
  },
  {
   "cell_type": "code",
   "execution_count": 10,
   "id": "44a7bd64-273c-4670-825f-e487d33ad71b",
   "metadata": {},
   "outputs": [
    {
     "data": {
      "text/plain": [
       "<filter at 0x242b3c2afb0>"
      ]
     },
     "execution_count": 10,
     "metadata": {},
     "output_type": "execute_result"
    }
   ],
   "source": [
    "filter(check_even,nums)"
   ]
  },
  {
   "cell_type": "code",
   "execution_count": 11,
   "id": "fb3755d3-aeab-430c-9131-95e4663b62d4",
   "metadata": {},
   "outputs": [
    {
     "data": {
      "text/plain": [
       "[0, 2, 4, 6, 8, 10]"
      ]
     },
     "execution_count": 11,
     "metadata": {},
     "output_type": "execute_result"
    }
   ],
   "source": [
    "list(filter(check_even,nums))"
   ]
  },
  {
   "cell_type": "code",
   "execution_count": 12,
   "id": "d1f99800-10e0-4a96-a6d3-af47c33a97ed",
   "metadata": {},
   "outputs": [],
   "source": [
    "def square(num):\n",
    "    result=num**2\n",
    "    return result"
   ]
  },
  {
   "cell_type": "code",
   "execution_count": 13,
   "id": "125a7c99-5078-458c-94d4-fef42ef676ff",
   "metadata": {},
   "outputs": [
    {
     "data": {
      "text/plain": [
       "4"
      ]
     },
     "execution_count": 13,
     "metadata": {},
     "output_type": "execute_result"
    }
   ],
   "source": [
    "square(2)"
   ]
  },
  {
   "cell_type": "code",
   "execution_count": 14,
   "id": "6151e28e-c452-47ea-89ce-0307ef204a92",
   "metadata": {},
   "outputs": [],
   "source": [
    "def square(num):\n",
    "    return num**2\n",
    "    "
   ]
  },
  {
   "cell_type": "code",
   "execution_count": 15,
   "id": "8e64134e-8fb7-4474-aa93-a9197f392566",
   "metadata": {},
   "outputs": [
    {
     "data": {
      "text/plain": [
       "4"
      ]
     },
     "execution_count": 15,
     "metadata": {},
     "output_type": "execute_result"
    }
   ],
   "source": [
    "square(2)"
   ]
  },
  {
   "cell_type": "code",
   "execution_count": 17,
   "id": "824585fe-58b9-4c38-9bf1-5061a8b9732c",
   "metadata": {},
   "outputs": [
    {
     "data": {
      "text/plain": [
       "<function __main__.<lambda>(num)>"
      ]
     },
     "execution_count": 17,
     "metadata": {},
     "output_type": "execute_result"
    }
   ],
   "source": [
    "lambda num:num**2"
   ]
  },
  {
   "cell_type": "code",
   "execution_count": 18,
   "id": "17da93b2-8137-4f01-aa7d-0a7c9a96d3fc",
   "metadata": {},
   "outputs": [],
   "source": [
    "square= lambda num: num**2"
   ]
  },
  {
   "cell_type": "code",
   "execution_count": 19,
   "id": "7992f620-4056-401a-90cf-131d8408e3da",
   "metadata": {},
   "outputs": [
    {
     "data": {
      "text/plain": [
       "4"
      ]
     },
     "execution_count": 19,
     "metadata": {},
     "output_type": "execute_result"
    }
   ],
   "source": [
    "square(2)"
   ]
  },
  {
   "cell_type": "code",
   "execution_count": 20,
   "id": "02628f6f-661d-41d8-aeed-a15de37db8f1",
   "metadata": {},
   "outputs": [],
   "source": [
    "#instance methods\n"
   ]
  },
  {
   "cell_type": "code",
   "execution_count": 23,
   "id": "a28708f8-c4a5-4226-9464-37e40432c63f",
   "metadata": {},
   "outputs": [],
   "source": [
    "class Dog:\n",
    "    species=\"Canis familiaris\"\n",
    "    def __init__(self,name,age):\n",
    "        self.name=name\n",
    "        self.age=age\n",
    "    def description(self):\n",
    "        return f\"{self.name} is {self.age} years old\"\n",
    "\n",
    "    def speak(self,sound):\n",
    "        return f\"{self.name} says {sound}\"\n",
    "\n",
    "        "
   ]
  },
  {
   "cell_type": "code",
   "execution_count": 31,
   "id": "60b34b57-d292-486d-918a-d279550f78d9",
   "metadata": {},
   "outputs": [],
   "source": [
    "abc=Dog('ram',32)"
   ]
  },
  {
   "cell_type": "code",
   "execution_count": 32,
   "id": "df7cdc43-0fae-4b79-94c6-e145287902ce",
   "metadata": {},
   "outputs": [
    {
     "name": "stdout",
     "output_type": "stream",
     "text": [
      "<__main__.Dog object at 0x00000242B423C180>\n"
     ]
    }
   ],
   "source": [
    "print(abc)"
   ]
  },
  {
   "cell_type": "code",
   "execution_count": 33,
   "id": "04e96828-d3a2-4f67-8453-3d5e37217267",
   "metadata": {},
   "outputs": [
    {
     "name": "stdout",
     "output_type": "stream",
     "text": [
      "ram is 32 years old\n"
     ]
    }
   ],
   "source": [
    "print(abc.description())"
   ]
  },
  {
   "cell_type": "code",
   "execution_count": 34,
   "id": "5f31498f-0ad3-41b5-8e0a-b72f3ff49e59",
   "metadata": {},
   "outputs": [
    {
     "name": "stdout",
     "output_type": "stream",
     "text": [
      "hari is 23 years old\n"
     ]
    }
   ],
   "source": [
    "print(Dog('hari','23').description())"
   ]
  },
  {
   "cell_type": "code",
   "execution_count": null,
   "id": "08557275-e4ae-47a4-9116-3e9c077a87b0",
   "metadata": {},
   "outputs": [],
   "source": []
  }
 ],
 "metadata": {
  "kernelspec": {
   "display_name": "Python 3 (ipykernel)",
   "language": "python",
   "name": "python3"
  },
  "language_info": {
   "codemirror_mode": {
    "name": "ipython",
    "version": 3
   },
   "file_extension": ".py",
   "mimetype": "text/x-python",
   "name": "python",
   "nbconvert_exporter": "python",
   "pygments_lexer": "ipython3",
   "version": "3.13.2"
  }
 },
 "nbformat": 4,
 "nbformat_minor": 5
}
